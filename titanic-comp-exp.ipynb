{
 "cells": [
  {
   "cell_type": "code",
   "execution_count": 1,
   "id": "3ccb0ad5",
   "metadata": {
    "_cell_guid": "b1076dfc-b9ad-4769-8c92-a6c4dae69d19",
    "_uuid": "8f2839f25d086af736a60e9eeb907d3b93b6e0e5",
    "execution": {
     "iopub.execute_input": "2022-06-23T18:14:12.759353Z",
     "iopub.status.busy": "2022-06-23T18:14:12.758036Z",
     "iopub.status.idle": "2022-06-23T18:14:12.776153Z",
     "shell.execute_reply": "2022-06-23T18:14:12.774648Z"
    },
    "papermill": {
     "duration": 0.074011,
     "end_time": "2022-06-23T18:14:12.778894",
     "exception": false,
     "start_time": "2022-06-23T18:14:12.704883",
     "status": "completed"
    },
    "tags": []
   },
   "outputs": [
    {
     "name": "stdout",
     "output_type": "stream",
     "text": [
      "/kaggle/input/titanic/train.csv\n",
      "/kaggle/input/titanic/test.csv\n",
      "/kaggle/input/titanic/gender_submission.csv\n"
     ]
    }
   ],
   "source": [
    "# This Python 3 environment comes with many helpful analytics libraries installed\n",
    "# It is defined by the kaggle/python Docker image: https://github.com/kaggle/docker-python\n",
    "# For example, here's several helpful packages to load\n",
    "\n",
    "import numpy as np # linear algebra\n",
    "import pandas as pd # data processing, CSV file I/O (e.g. pd.read_csv)\n",
    "\n",
    "# Input data files are available in the read-only \"../input/\" directory\n",
    "# For example, running this (by clicking run or pressing Shift+Enter) will list all files under the input directory\n",
    "\n",
    "import os\n",
    "for dirname, _, filenames in os.walk('/kaggle/input'):\n",
    "    for filename in filenames:\n",
    "        print(os.path.join(dirname, filename))\n",
    "\n",
    "# You can write up to 20GB to the current directory (/kaggle/working/) that gets preserved as output when you create a version using \"Save & Run All\" \n",
    "# You can also write temporary files to /kaggle/temp/, but they won't be saved outside of the current session"
   ]
  },
  {
   "cell_type": "code",
   "execution_count": 2,
   "id": "043f696e",
   "metadata": {
    "execution": {
     "iopub.execute_input": "2022-06-23T18:14:12.885596Z",
     "iopub.status.busy": "2022-06-23T18:14:12.885028Z",
     "iopub.status.idle": "2022-06-23T18:14:14.030227Z",
     "shell.execute_reply": "2022-06-23T18:14:14.029381Z"
    },
    "papermill": {
     "duration": 1.199559,
     "end_time": "2022-06-23T18:14:14.032689",
     "exception": false,
     "start_time": "2022-06-23T18:14:12.833130",
     "status": "completed"
    },
    "tags": []
   },
   "outputs": [
    {
     "name": "stdout",
     "output_type": "stream",
     "text": [
      "sklearn version 1.0.2\n"
     ]
    }
   ],
   "source": [
    "import sklearn \n",
    "print(\"sklearn version\", sklearn.__version__)"
   ]
  },
  {
   "cell_type": "code",
   "execution_count": 3,
   "id": "df43d3d5",
   "metadata": {
    "execution": {
     "iopub.execute_input": "2022-06-23T18:14:14.137776Z",
     "iopub.status.busy": "2022-06-23T18:14:14.137227Z",
     "iopub.status.idle": "2022-06-23T18:14:14.143160Z",
     "shell.execute_reply": "2022-06-23T18:14:14.142483Z"
    },
    "papermill": {
     "duration": 0.05947,
     "end_time": "2022-06-23T18:14:14.144935",
     "exception": false,
     "start_time": "2022-06-23T18:14:14.085465",
     "status": "completed"
    },
    "tags": []
   },
   "outputs": [],
   "source": [
    "%matplotlib inline \n",
    "import matplotlib.pyplot as plt "
   ]
  },
  {
   "cell_type": "code",
   "execution_count": 4,
   "id": "d58cc30e",
   "metadata": {
    "execution": {
     "iopub.execute_input": "2022-06-23T18:14:14.247801Z",
     "iopub.status.busy": "2022-06-23T18:14:14.247284Z",
     "iopub.status.idle": "2022-06-23T18:14:14.264696Z",
     "shell.execute_reply": "2022-06-23T18:14:14.264063Z"
    },
    "papermill": {
     "duration": 0.071625,
     "end_time": "2022-06-23T18:14:14.266841",
     "exception": false,
     "start_time": "2022-06-23T18:14:14.195216",
     "status": "completed"
    },
    "tags": []
   },
   "outputs": [],
   "source": [
    "test_df = pd.read_csv('../input/titanic/test.csv')"
   ]
  },
  {
   "cell_type": "code",
   "execution_count": 5,
   "id": "9ebbefa2",
   "metadata": {
    "execution": {
     "iopub.execute_input": "2022-06-23T18:14:14.368865Z",
     "iopub.status.busy": "2022-06-23T18:14:14.368527Z",
     "iopub.status.idle": "2022-06-23T18:14:14.390452Z",
     "shell.execute_reply": "2022-06-23T18:14:14.389856Z"
    },
    "papermill": {
     "duration": 0.07517,
     "end_time": "2022-06-23T18:14:14.392356",
     "exception": false,
     "start_time": "2022-06-23T18:14:14.317186",
     "status": "completed"
    },
    "tags": []
   },
   "outputs": [
    {
     "data": {
      "text/html": [
       "<div>\n",
       "<style scoped>\n",
       "    .dataframe tbody tr th:only-of-type {\n",
       "        vertical-align: middle;\n",
       "    }\n",
       "\n",
       "    .dataframe tbody tr th {\n",
       "        vertical-align: top;\n",
       "    }\n",
       "\n",
       "    .dataframe thead th {\n",
       "        text-align: right;\n",
       "    }\n",
       "</style>\n",
       "<table border=\"1\" class=\"dataframe\">\n",
       "  <thead>\n",
       "    <tr style=\"text-align: right;\">\n",
       "      <th></th>\n",
       "      <th>PassengerId</th>\n",
       "      <th>Pclass</th>\n",
       "      <th>Name</th>\n",
       "      <th>Sex</th>\n",
       "      <th>Age</th>\n",
       "      <th>SibSp</th>\n",
       "      <th>Parch</th>\n",
       "      <th>Ticket</th>\n",
       "      <th>Fare</th>\n",
       "      <th>Cabin</th>\n",
       "      <th>Embarked</th>\n",
       "    </tr>\n",
       "  </thead>\n",
       "  <tbody>\n",
       "    <tr>\n",
       "      <th>0</th>\n",
       "      <td>892</td>\n",
       "      <td>3</td>\n",
       "      <td>Kelly, Mr. James</td>\n",
       "      <td>male</td>\n",
       "      <td>34.5</td>\n",
       "      <td>0</td>\n",
       "      <td>0</td>\n",
       "      <td>330911</td>\n",
       "      <td>7.8292</td>\n",
       "      <td>NaN</td>\n",
       "      <td>Q</td>\n",
       "    </tr>\n",
       "    <tr>\n",
       "      <th>1</th>\n",
       "      <td>893</td>\n",
       "      <td>3</td>\n",
       "      <td>Wilkes, Mrs. James (Ellen Needs)</td>\n",
       "      <td>female</td>\n",
       "      <td>47.0</td>\n",
       "      <td>1</td>\n",
       "      <td>0</td>\n",
       "      <td>363272</td>\n",
       "      <td>7.0000</td>\n",
       "      <td>NaN</td>\n",
       "      <td>S</td>\n",
       "    </tr>\n",
       "    <tr>\n",
       "      <th>2</th>\n",
       "      <td>894</td>\n",
       "      <td>2</td>\n",
       "      <td>Myles, Mr. Thomas Francis</td>\n",
       "      <td>male</td>\n",
       "      <td>62.0</td>\n",
       "      <td>0</td>\n",
       "      <td>0</td>\n",
       "      <td>240276</td>\n",
       "      <td>9.6875</td>\n",
       "      <td>NaN</td>\n",
       "      <td>Q</td>\n",
       "    </tr>\n",
       "    <tr>\n",
       "      <th>3</th>\n",
       "      <td>895</td>\n",
       "      <td>3</td>\n",
       "      <td>Wirz, Mr. Albert</td>\n",
       "      <td>male</td>\n",
       "      <td>27.0</td>\n",
       "      <td>0</td>\n",
       "      <td>0</td>\n",
       "      <td>315154</td>\n",
       "      <td>8.6625</td>\n",
       "      <td>NaN</td>\n",
       "      <td>S</td>\n",
       "    </tr>\n",
       "    <tr>\n",
       "      <th>4</th>\n",
       "      <td>896</td>\n",
       "      <td>3</td>\n",
       "      <td>Hirvonen, Mrs. Alexander (Helga E Lindqvist)</td>\n",
       "      <td>female</td>\n",
       "      <td>22.0</td>\n",
       "      <td>1</td>\n",
       "      <td>1</td>\n",
       "      <td>3101298</td>\n",
       "      <td>12.2875</td>\n",
       "      <td>NaN</td>\n",
       "      <td>S</td>\n",
       "    </tr>\n",
       "  </tbody>\n",
       "</table>\n",
       "</div>"
      ],
      "text/plain": [
       "   PassengerId  Pclass                                          Name     Sex  \\\n",
       "0          892       3                              Kelly, Mr. James    male   \n",
       "1          893       3              Wilkes, Mrs. James (Ellen Needs)  female   \n",
       "2          894       2                     Myles, Mr. Thomas Francis    male   \n",
       "3          895       3                              Wirz, Mr. Albert    male   \n",
       "4          896       3  Hirvonen, Mrs. Alexander (Helga E Lindqvist)  female   \n",
       "\n",
       "    Age  SibSp  Parch   Ticket     Fare Cabin Embarked  \n",
       "0  34.5      0      0   330911   7.8292   NaN        Q  \n",
       "1  47.0      1      0   363272   7.0000   NaN        S  \n",
       "2  62.0      0      0   240276   9.6875   NaN        Q  \n",
       "3  27.0      0      0   315154   8.6625   NaN        S  \n",
       "4  22.0      1      1  3101298  12.2875   NaN        S  "
      ]
     },
     "execution_count": 5,
     "metadata": {},
     "output_type": "execute_result"
    }
   ],
   "source": [
    "test_df.head()"
   ]
  },
  {
   "cell_type": "code",
   "execution_count": 6,
   "id": "e7864397",
   "metadata": {
    "execution": {
     "iopub.execute_input": "2022-06-23T18:14:14.495986Z",
     "iopub.status.busy": "2022-06-23T18:14:14.495488Z",
     "iopub.status.idle": "2022-06-23T18:14:14.510199Z",
     "shell.execute_reply": "2022-06-23T18:14:14.509468Z"
    },
    "papermill": {
     "duration": 0.068787,
     "end_time": "2022-06-23T18:14:14.512319",
     "exception": false,
     "start_time": "2022-06-23T18:14:14.443532",
     "status": "completed"
    },
    "tags": []
   },
   "outputs": [],
   "source": [
    "train_df = pd.read_csv('../input/titanic/train.csv')"
   ]
  },
  {
   "cell_type": "code",
   "execution_count": 7,
   "id": "b2f3b72a",
   "metadata": {
    "execution": {
     "iopub.execute_input": "2022-06-23T18:14:14.616211Z",
     "iopub.status.busy": "2022-06-23T18:14:14.615688Z",
     "iopub.status.idle": "2022-06-23T18:14:14.630498Z",
     "shell.execute_reply": "2022-06-23T18:14:14.629638Z"
    },
    "papermill": {
     "duration": 0.069177,
     "end_time": "2022-06-23T18:14:14.632495",
     "exception": false,
     "start_time": "2022-06-23T18:14:14.563318",
     "status": "completed"
    },
    "tags": []
   },
   "outputs": [
    {
     "data": {
      "text/html": [
       "<div>\n",
       "<style scoped>\n",
       "    .dataframe tbody tr th:only-of-type {\n",
       "        vertical-align: middle;\n",
       "    }\n",
       "\n",
       "    .dataframe tbody tr th {\n",
       "        vertical-align: top;\n",
       "    }\n",
       "\n",
       "    .dataframe thead th {\n",
       "        text-align: right;\n",
       "    }\n",
       "</style>\n",
       "<table border=\"1\" class=\"dataframe\">\n",
       "  <thead>\n",
       "    <tr style=\"text-align: right;\">\n",
       "      <th></th>\n",
       "      <th>PassengerId</th>\n",
       "      <th>Survived</th>\n",
       "      <th>Pclass</th>\n",
       "      <th>Name</th>\n",
       "      <th>Sex</th>\n",
       "      <th>Age</th>\n",
       "      <th>SibSp</th>\n",
       "      <th>Parch</th>\n",
       "      <th>Ticket</th>\n",
       "      <th>Fare</th>\n",
       "      <th>Cabin</th>\n",
       "      <th>Embarked</th>\n",
       "    </tr>\n",
       "  </thead>\n",
       "  <tbody>\n",
       "    <tr>\n",
       "      <th>0</th>\n",
       "      <td>1</td>\n",
       "      <td>0</td>\n",
       "      <td>3</td>\n",
       "      <td>Braund, Mr. Owen Harris</td>\n",
       "      <td>male</td>\n",
       "      <td>22.0</td>\n",
       "      <td>1</td>\n",
       "      <td>0</td>\n",
       "      <td>A/5 21171</td>\n",
       "      <td>7.2500</td>\n",
       "      <td>NaN</td>\n",
       "      <td>S</td>\n",
       "    </tr>\n",
       "    <tr>\n",
       "      <th>1</th>\n",
       "      <td>2</td>\n",
       "      <td>1</td>\n",
       "      <td>1</td>\n",
       "      <td>Cumings, Mrs. John Bradley (Florence Briggs Th...</td>\n",
       "      <td>female</td>\n",
       "      <td>38.0</td>\n",
       "      <td>1</td>\n",
       "      <td>0</td>\n",
       "      <td>PC 17599</td>\n",
       "      <td>71.2833</td>\n",
       "      <td>C85</td>\n",
       "      <td>C</td>\n",
       "    </tr>\n",
       "    <tr>\n",
       "      <th>2</th>\n",
       "      <td>3</td>\n",
       "      <td>1</td>\n",
       "      <td>3</td>\n",
       "      <td>Heikkinen, Miss. Laina</td>\n",
       "      <td>female</td>\n",
       "      <td>26.0</td>\n",
       "      <td>0</td>\n",
       "      <td>0</td>\n",
       "      <td>STON/O2. 3101282</td>\n",
       "      <td>7.9250</td>\n",
       "      <td>NaN</td>\n",
       "      <td>S</td>\n",
       "    </tr>\n",
       "    <tr>\n",
       "      <th>3</th>\n",
       "      <td>4</td>\n",
       "      <td>1</td>\n",
       "      <td>1</td>\n",
       "      <td>Futrelle, Mrs. Jacques Heath (Lily May Peel)</td>\n",
       "      <td>female</td>\n",
       "      <td>35.0</td>\n",
       "      <td>1</td>\n",
       "      <td>0</td>\n",
       "      <td>113803</td>\n",
       "      <td>53.1000</td>\n",
       "      <td>C123</td>\n",
       "      <td>S</td>\n",
       "    </tr>\n",
       "    <tr>\n",
       "      <th>4</th>\n",
       "      <td>5</td>\n",
       "      <td>0</td>\n",
       "      <td>3</td>\n",
       "      <td>Allen, Mr. William Henry</td>\n",
       "      <td>male</td>\n",
       "      <td>35.0</td>\n",
       "      <td>0</td>\n",
       "      <td>0</td>\n",
       "      <td>373450</td>\n",
       "      <td>8.0500</td>\n",
       "      <td>NaN</td>\n",
       "      <td>S</td>\n",
       "    </tr>\n",
       "  </tbody>\n",
       "</table>\n",
       "</div>"
      ],
      "text/plain": [
       "   PassengerId  Survived  Pclass  \\\n",
       "0            1         0       3   \n",
       "1            2         1       1   \n",
       "2            3         1       3   \n",
       "3            4         1       1   \n",
       "4            5         0       3   \n",
       "\n",
       "                                                Name     Sex   Age  SibSp  \\\n",
       "0                            Braund, Mr. Owen Harris    male  22.0      1   \n",
       "1  Cumings, Mrs. John Bradley (Florence Briggs Th...  female  38.0      1   \n",
       "2                             Heikkinen, Miss. Laina  female  26.0      0   \n",
       "3       Futrelle, Mrs. Jacques Heath (Lily May Peel)  female  35.0      1   \n",
       "4                           Allen, Mr. William Henry    male  35.0      0   \n",
       "\n",
       "   Parch            Ticket     Fare Cabin Embarked  \n",
       "0      0         A/5 21171   7.2500   NaN        S  \n",
       "1      0          PC 17599  71.2833   C85        C  \n",
       "2      0  STON/O2. 3101282   7.9250   NaN        S  \n",
       "3      0            113803  53.1000  C123        S  \n",
       "4      0            373450   8.0500   NaN        S  "
      ]
     },
     "execution_count": 7,
     "metadata": {},
     "output_type": "execute_result"
    }
   ],
   "source": [
    "train_df.head()"
   ]
  },
  {
   "cell_type": "code",
   "execution_count": 8,
   "id": "786773cc",
   "metadata": {
    "execution": {
     "iopub.execute_input": "2022-06-23T18:14:14.738154Z",
     "iopub.status.busy": "2022-06-23T18:14:14.737652Z",
     "iopub.status.idle": "2022-06-23T18:14:14.742249Z",
     "shell.execute_reply": "2022-06-23T18:14:14.741752Z"
    },
    "papermill": {
     "duration": 0.059562,
     "end_time": "2022-06-23T18:14:14.743961",
     "exception": false,
     "start_time": "2022-06-23T18:14:14.684399",
     "status": "completed"
    },
    "tags": []
   },
   "outputs": [
    {
     "data": {
      "text/plain": [
       "(891, 12)"
      ]
     },
     "execution_count": 8,
     "metadata": {},
     "output_type": "execute_result"
    }
   ],
   "source": [
    "train_df.shape"
   ]
  },
  {
   "cell_type": "markdown",
   "id": "c39eae4c",
   "metadata": {
    "papermill": {
     "duration": 0.051814,
     "end_time": "2022-06-23T18:14:14.847306",
     "exception": false,
     "start_time": "2022-06-23T18:14:14.795492",
     "status": "completed"
    },
    "tags": []
   },
   "source": [
    "## now let's bring all the data into a single frame"
   ]
  },
  {
   "cell_type": "code",
   "execution_count": 9,
   "id": "fa1a61d7",
   "metadata": {
    "execution": {
     "iopub.execute_input": "2022-06-23T18:14:14.953328Z",
     "iopub.status.busy": "2022-06-23T18:14:14.952826Z",
     "iopub.status.idle": "2022-06-23T18:14:14.990212Z",
     "shell.execute_reply": "2022-06-23T18:14:14.989614Z"
    },
    "papermill": {
     "duration": 0.092561,
     "end_time": "2022-06-23T18:14:14.991969",
     "exception": false,
     "start_time": "2022-06-23T18:14:14.899408",
     "status": "completed"
    },
    "tags": []
   },
   "outputs": [
    {
     "data": {
      "text/html": [
       "<div>\n",
       "<style scoped>\n",
       "    .dataframe tbody tr th:only-of-type {\n",
       "        vertical-align: middle;\n",
       "    }\n",
       "\n",
       "    .dataframe tbody tr th {\n",
       "        vertical-align: top;\n",
       "    }\n",
       "\n",
       "    .dataframe thead th {\n",
       "        text-align: right;\n",
       "    }\n",
       "</style>\n",
       "<table border=\"1\" class=\"dataframe\">\n",
       "  <thead>\n",
       "    <tr style=\"text-align: right;\">\n",
       "      <th></th>\n",
       "      <th>PassengerId</th>\n",
       "      <th>Survived</th>\n",
       "      <th>Pclass</th>\n",
       "      <th>Name</th>\n",
       "      <th>Sex</th>\n",
       "      <th>Age</th>\n",
       "      <th>SibSp</th>\n",
       "      <th>Parch</th>\n",
       "      <th>Ticket</th>\n",
       "      <th>Fare</th>\n",
       "      <th>Cabin</th>\n",
       "      <th>Embarked</th>\n",
       "      <th>train_test</th>\n",
       "    </tr>\n",
       "  </thead>\n",
       "  <tbody>\n",
       "    <tr>\n",
       "      <th>0</th>\n",
       "      <td>1</td>\n",
       "      <td>0.0</td>\n",
       "      <td>3</td>\n",
       "      <td>Braund, Mr. Owen Harris</td>\n",
       "      <td>male</td>\n",
       "      <td>22.0</td>\n",
       "      <td>1</td>\n",
       "      <td>0</td>\n",
       "      <td>A/5 21171</td>\n",
       "      <td>7.2500</td>\n",
       "      <td>NaN</td>\n",
       "      <td>S</td>\n",
       "      <td>1</td>\n",
       "    </tr>\n",
       "    <tr>\n",
       "      <th>1</th>\n",
       "      <td>2</td>\n",
       "      <td>1.0</td>\n",
       "      <td>1</td>\n",
       "      <td>Cumings, Mrs. John Bradley (Florence Briggs Th...</td>\n",
       "      <td>female</td>\n",
       "      <td>38.0</td>\n",
       "      <td>1</td>\n",
       "      <td>0</td>\n",
       "      <td>PC 17599</td>\n",
       "      <td>71.2833</td>\n",
       "      <td>C85</td>\n",
       "      <td>C</td>\n",
       "      <td>1</td>\n",
       "    </tr>\n",
       "    <tr>\n",
       "      <th>2</th>\n",
       "      <td>3</td>\n",
       "      <td>1.0</td>\n",
       "      <td>3</td>\n",
       "      <td>Heikkinen, Miss. Laina</td>\n",
       "      <td>female</td>\n",
       "      <td>26.0</td>\n",
       "      <td>0</td>\n",
       "      <td>0</td>\n",
       "      <td>STON/O2. 3101282</td>\n",
       "      <td>7.9250</td>\n",
       "      <td>NaN</td>\n",
       "      <td>S</td>\n",
       "      <td>1</td>\n",
       "    </tr>\n",
       "    <tr>\n",
       "      <th>3</th>\n",
       "      <td>4</td>\n",
       "      <td>1.0</td>\n",
       "      <td>1</td>\n",
       "      <td>Futrelle, Mrs. Jacques Heath (Lily May Peel)</td>\n",
       "      <td>female</td>\n",
       "      <td>35.0</td>\n",
       "      <td>1</td>\n",
       "      <td>0</td>\n",
       "      <td>113803</td>\n",
       "      <td>53.1000</td>\n",
       "      <td>C123</td>\n",
       "      <td>S</td>\n",
       "      <td>1</td>\n",
       "    </tr>\n",
       "    <tr>\n",
       "      <th>4</th>\n",
       "      <td>5</td>\n",
       "      <td>0.0</td>\n",
       "      <td>3</td>\n",
       "      <td>Allen, Mr. William Henry</td>\n",
       "      <td>male</td>\n",
       "      <td>35.0</td>\n",
       "      <td>0</td>\n",
       "      <td>0</td>\n",
       "      <td>373450</td>\n",
       "      <td>8.0500</td>\n",
       "      <td>NaN</td>\n",
       "      <td>S</td>\n",
       "      <td>1</td>\n",
       "    </tr>\n",
       "    <tr>\n",
       "      <th>...</th>\n",
       "      <td>...</td>\n",
       "      <td>...</td>\n",
       "      <td>...</td>\n",
       "      <td>...</td>\n",
       "      <td>...</td>\n",
       "      <td>...</td>\n",
       "      <td>...</td>\n",
       "      <td>...</td>\n",
       "      <td>...</td>\n",
       "      <td>...</td>\n",
       "      <td>...</td>\n",
       "      <td>...</td>\n",
       "      <td>...</td>\n",
       "    </tr>\n",
       "    <tr>\n",
       "      <th>95</th>\n",
       "      <td>96</td>\n",
       "      <td>0.0</td>\n",
       "      <td>3</td>\n",
       "      <td>Shorney, Mr. Charles Joseph</td>\n",
       "      <td>male</td>\n",
       "      <td>NaN</td>\n",
       "      <td>0</td>\n",
       "      <td>0</td>\n",
       "      <td>374910</td>\n",
       "      <td>8.0500</td>\n",
       "      <td>NaN</td>\n",
       "      <td>S</td>\n",
       "      <td>1</td>\n",
       "    </tr>\n",
       "    <tr>\n",
       "      <th>96</th>\n",
       "      <td>97</td>\n",
       "      <td>0.0</td>\n",
       "      <td>1</td>\n",
       "      <td>Goldschmidt, Mr. George B</td>\n",
       "      <td>male</td>\n",
       "      <td>71.0</td>\n",
       "      <td>0</td>\n",
       "      <td>0</td>\n",
       "      <td>PC 17754</td>\n",
       "      <td>34.6542</td>\n",
       "      <td>A5</td>\n",
       "      <td>C</td>\n",
       "      <td>1</td>\n",
       "    </tr>\n",
       "    <tr>\n",
       "      <th>97</th>\n",
       "      <td>98</td>\n",
       "      <td>1.0</td>\n",
       "      <td>1</td>\n",
       "      <td>Greenfield, Mr. William Bertram</td>\n",
       "      <td>male</td>\n",
       "      <td>23.0</td>\n",
       "      <td>0</td>\n",
       "      <td>1</td>\n",
       "      <td>PC 17759</td>\n",
       "      <td>63.3583</td>\n",
       "      <td>D10 D12</td>\n",
       "      <td>C</td>\n",
       "      <td>1</td>\n",
       "    </tr>\n",
       "    <tr>\n",
       "      <th>98</th>\n",
       "      <td>99</td>\n",
       "      <td>1.0</td>\n",
       "      <td>2</td>\n",
       "      <td>Doling, Mrs. John T (Ada Julia Bone)</td>\n",
       "      <td>female</td>\n",
       "      <td>34.0</td>\n",
       "      <td>0</td>\n",
       "      <td>1</td>\n",
       "      <td>231919</td>\n",
       "      <td>23.0000</td>\n",
       "      <td>NaN</td>\n",
       "      <td>S</td>\n",
       "      <td>1</td>\n",
       "    </tr>\n",
       "    <tr>\n",
       "      <th>99</th>\n",
       "      <td>100</td>\n",
       "      <td>0.0</td>\n",
       "      <td>2</td>\n",
       "      <td>Kantor, Mr. Sinai</td>\n",
       "      <td>male</td>\n",
       "      <td>34.0</td>\n",
       "      <td>1</td>\n",
       "      <td>0</td>\n",
       "      <td>244367</td>\n",
       "      <td>26.0000</td>\n",
       "      <td>NaN</td>\n",
       "      <td>S</td>\n",
       "      <td>1</td>\n",
       "    </tr>\n",
       "  </tbody>\n",
       "</table>\n",
       "<p>100 rows × 13 columns</p>\n",
       "</div>"
      ],
      "text/plain": [
       "    PassengerId  Survived  Pclass  \\\n",
       "0             1       0.0       3   \n",
       "1             2       1.0       1   \n",
       "2             3       1.0       3   \n",
       "3             4       1.0       1   \n",
       "4             5       0.0       3   \n",
       "..          ...       ...     ...   \n",
       "95           96       0.0       3   \n",
       "96           97       0.0       1   \n",
       "97           98       1.0       1   \n",
       "98           99       1.0       2   \n",
       "99          100       0.0       2   \n",
       "\n",
       "                                                 Name     Sex   Age  SibSp  \\\n",
       "0                             Braund, Mr. Owen Harris    male  22.0      1   \n",
       "1   Cumings, Mrs. John Bradley (Florence Briggs Th...  female  38.0      1   \n",
       "2                              Heikkinen, Miss. Laina  female  26.0      0   \n",
       "3        Futrelle, Mrs. Jacques Heath (Lily May Peel)  female  35.0      1   \n",
       "4                            Allen, Mr. William Henry    male  35.0      0   \n",
       "..                                                ...     ...   ...    ...   \n",
       "95                        Shorney, Mr. Charles Joseph    male   NaN      0   \n",
       "96                          Goldschmidt, Mr. George B    male  71.0      0   \n",
       "97                    Greenfield, Mr. William Bertram    male  23.0      0   \n",
       "98               Doling, Mrs. John T (Ada Julia Bone)  female  34.0      0   \n",
       "99                                  Kantor, Mr. Sinai    male  34.0      1   \n",
       "\n",
       "    Parch            Ticket     Fare    Cabin Embarked  train_test  \n",
       "0       0         A/5 21171   7.2500      NaN        S           1  \n",
       "1       0          PC 17599  71.2833      C85        C           1  \n",
       "2       0  STON/O2. 3101282   7.9250      NaN        S           1  \n",
       "3       0            113803  53.1000     C123        S           1  \n",
       "4       0            373450   8.0500      NaN        S           1  \n",
       "..    ...               ...      ...      ...      ...         ...  \n",
       "95      0            374910   8.0500      NaN        S           1  \n",
       "96      0          PC 17754  34.6542       A5        C           1  \n",
       "97      1          PC 17759  63.3583  D10 D12        C           1  \n",
       "98      1            231919  23.0000      NaN        S           1  \n",
       "99      0            244367  26.0000      NaN        S           1  \n",
       "\n",
       "[100 rows x 13 columns]"
      ]
     },
     "execution_count": 9,
     "metadata": {},
     "output_type": "execute_result"
    }
   ],
   "source": [
    "train_df['train_test'] = 1 \n",
    "test_df['train_test'] = 0\n",
    "test_df['Survived'] = np.NaN\n",
    "\n",
    "full_df = pd.concat([train_df, test_df])\n",
    "full_df.head(100)"
   ]
  },
  {
   "cell_type": "code",
   "execution_count": 10,
   "id": "5d62e3c1",
   "metadata": {
    "execution": {
     "iopub.execute_input": "2022-06-23T18:14:15.099727Z",
     "iopub.status.busy": "2022-06-23T18:14:15.099265Z",
     "iopub.status.idle": "2022-06-23T18:14:15.134838Z",
     "shell.execute_reply": "2022-06-23T18:14:15.134254Z"
    },
    "papermill": {
     "duration": 0.091782,
     "end_time": "2022-06-23T18:14:15.136643",
     "exception": false,
     "start_time": "2022-06-23T18:14:15.044861",
     "status": "completed"
    },
    "tags": []
   },
   "outputs": [
    {
     "data": {
      "text/html": [
       "<div>\n",
       "<style scoped>\n",
       "    .dataframe tbody tr th:only-of-type {\n",
       "        vertical-align: middle;\n",
       "    }\n",
       "\n",
       "    .dataframe tbody tr th {\n",
       "        vertical-align: top;\n",
       "    }\n",
       "\n",
       "    .dataframe thead th {\n",
       "        text-align: right;\n",
       "    }\n",
       "</style>\n",
       "<table border=\"1\" class=\"dataframe\">\n",
       "  <thead>\n",
       "    <tr style=\"text-align: right;\">\n",
       "      <th></th>\n",
       "      <th>PassengerId</th>\n",
       "      <th>Survived</th>\n",
       "      <th>Pclass</th>\n",
       "      <th>Age</th>\n",
       "      <th>SibSp</th>\n",
       "      <th>Parch</th>\n",
       "      <th>Fare</th>\n",
       "      <th>train_test</th>\n",
       "    </tr>\n",
       "  </thead>\n",
       "  <tbody>\n",
       "    <tr>\n",
       "      <th>count</th>\n",
       "      <td>1309.000000</td>\n",
       "      <td>891.000000</td>\n",
       "      <td>1309.000000</td>\n",
       "      <td>1046.000000</td>\n",
       "      <td>1309.000000</td>\n",
       "      <td>1309.000000</td>\n",
       "      <td>1308.000000</td>\n",
       "      <td>1309.000000</td>\n",
       "    </tr>\n",
       "    <tr>\n",
       "      <th>mean</th>\n",
       "      <td>655.000000</td>\n",
       "      <td>0.383838</td>\n",
       "      <td>2.294882</td>\n",
       "      <td>29.881138</td>\n",
       "      <td>0.498854</td>\n",
       "      <td>0.385027</td>\n",
       "      <td>33.295479</td>\n",
       "      <td>0.680672</td>\n",
       "    </tr>\n",
       "    <tr>\n",
       "      <th>std</th>\n",
       "      <td>378.020061</td>\n",
       "      <td>0.486592</td>\n",
       "      <td>0.837836</td>\n",
       "      <td>14.413493</td>\n",
       "      <td>1.041658</td>\n",
       "      <td>0.865560</td>\n",
       "      <td>51.758668</td>\n",
       "      <td>0.466394</td>\n",
       "    </tr>\n",
       "    <tr>\n",
       "      <th>min</th>\n",
       "      <td>1.000000</td>\n",
       "      <td>0.000000</td>\n",
       "      <td>1.000000</td>\n",
       "      <td>0.170000</td>\n",
       "      <td>0.000000</td>\n",
       "      <td>0.000000</td>\n",
       "      <td>0.000000</td>\n",
       "      <td>0.000000</td>\n",
       "    </tr>\n",
       "    <tr>\n",
       "      <th>25%</th>\n",
       "      <td>328.000000</td>\n",
       "      <td>0.000000</td>\n",
       "      <td>2.000000</td>\n",
       "      <td>21.000000</td>\n",
       "      <td>0.000000</td>\n",
       "      <td>0.000000</td>\n",
       "      <td>7.895800</td>\n",
       "      <td>0.000000</td>\n",
       "    </tr>\n",
       "    <tr>\n",
       "      <th>50%</th>\n",
       "      <td>655.000000</td>\n",
       "      <td>0.000000</td>\n",
       "      <td>3.000000</td>\n",
       "      <td>28.000000</td>\n",
       "      <td>0.000000</td>\n",
       "      <td>0.000000</td>\n",
       "      <td>14.454200</td>\n",
       "      <td>1.000000</td>\n",
       "    </tr>\n",
       "    <tr>\n",
       "      <th>75%</th>\n",
       "      <td>982.000000</td>\n",
       "      <td>1.000000</td>\n",
       "      <td>3.000000</td>\n",
       "      <td>39.000000</td>\n",
       "      <td>1.000000</td>\n",
       "      <td>0.000000</td>\n",
       "      <td>31.275000</td>\n",
       "      <td>1.000000</td>\n",
       "    </tr>\n",
       "    <tr>\n",
       "      <th>max</th>\n",
       "      <td>1309.000000</td>\n",
       "      <td>1.000000</td>\n",
       "      <td>3.000000</td>\n",
       "      <td>80.000000</td>\n",
       "      <td>8.000000</td>\n",
       "      <td>9.000000</td>\n",
       "      <td>512.329200</td>\n",
       "      <td>1.000000</td>\n",
       "    </tr>\n",
       "  </tbody>\n",
       "</table>\n",
       "</div>"
      ],
      "text/plain": [
       "       PassengerId    Survived       Pclass          Age        SibSp  \\\n",
       "count  1309.000000  891.000000  1309.000000  1046.000000  1309.000000   \n",
       "mean    655.000000    0.383838     2.294882    29.881138     0.498854   \n",
       "std     378.020061    0.486592     0.837836    14.413493     1.041658   \n",
       "min       1.000000    0.000000     1.000000     0.170000     0.000000   \n",
       "25%     328.000000    0.000000     2.000000    21.000000     0.000000   \n",
       "50%     655.000000    0.000000     3.000000    28.000000     0.000000   \n",
       "75%     982.000000    1.000000     3.000000    39.000000     1.000000   \n",
       "max    1309.000000    1.000000     3.000000    80.000000     8.000000   \n",
       "\n",
       "             Parch         Fare   train_test  \n",
       "count  1309.000000  1308.000000  1309.000000  \n",
       "mean      0.385027    33.295479     0.680672  \n",
       "std       0.865560    51.758668     0.466394  \n",
       "min       0.000000     0.000000     0.000000  \n",
       "25%       0.000000     7.895800     0.000000  \n",
       "50%       0.000000    14.454200     1.000000  \n",
       "75%       0.000000    31.275000     1.000000  \n",
       "max       9.000000   512.329200     1.000000  "
      ]
     },
     "execution_count": 10,
     "metadata": {},
     "output_type": "execute_result"
    }
   ],
   "source": [
    "full_df.describe()"
   ]
  },
  {
   "cell_type": "code",
   "execution_count": 11,
   "id": "a1d2c321",
   "metadata": {
    "execution": {
     "iopub.execute_input": "2022-06-23T18:14:15.245275Z",
     "iopub.status.busy": "2022-06-23T18:14:15.244886Z",
     "iopub.status.idle": "2022-06-23T18:14:15.259656Z",
     "shell.execute_reply": "2022-06-23T18:14:15.259063Z"
    },
    "papermill": {
     "duration": 0.072818,
     "end_time": "2022-06-23T18:14:15.262416",
     "exception": false,
     "start_time": "2022-06-23T18:14:15.189598",
     "status": "completed"
    },
    "tags": []
   },
   "outputs": [
    {
     "name": "stdout",
     "output_type": "stream",
     "text": [
      "<class 'pandas.core.frame.DataFrame'>\n",
      "Int64Index: 1309 entries, 0 to 417\n",
      "Data columns (total 13 columns):\n",
      " #   Column       Non-Null Count  Dtype  \n",
      "---  ------       --------------  -----  \n",
      " 0   PassengerId  1309 non-null   int64  \n",
      " 1   Survived     891 non-null    float64\n",
      " 2   Pclass       1309 non-null   int64  \n",
      " 3   Name         1309 non-null   object \n",
      " 4   Sex          1309 non-null   object \n",
      " 5   Age          1046 non-null   float64\n",
      " 6   SibSp        1309 non-null   int64  \n",
      " 7   Parch        1309 non-null   int64  \n",
      " 8   Ticket       1309 non-null   object \n",
      " 9   Fare         1308 non-null   float64\n",
      " 10  Cabin        295 non-null    object \n",
      " 11  Embarked     1307 non-null   object \n",
      " 12  train_test   1309 non-null   int64  \n",
      "dtypes: float64(3), int64(5), object(5)\n",
      "memory usage: 143.2+ KB\n"
     ]
    }
   ],
   "source": [
    "full_df.info()"
   ]
  },
  {
   "cell_type": "code",
   "execution_count": 12,
   "id": "32a5515c",
   "metadata": {
    "execution": {
     "iopub.execute_input": "2022-06-23T18:14:15.373891Z",
     "iopub.status.busy": "2022-06-23T18:14:15.373455Z",
     "iopub.status.idle": "2022-06-23T18:14:15.378560Z",
     "shell.execute_reply": "2022-06-23T18:14:15.377722Z"
    },
    "papermill": {
     "duration": 0.063179,
     "end_time": "2022-06-23T18:14:15.380414",
     "exception": false,
     "start_time": "2022-06-23T18:14:15.317235",
     "status": "completed"
    },
    "tags": []
   },
   "outputs": [
    {
     "data": {
      "text/plain": [
       "Index(['PassengerId', 'Survived', 'Pclass', 'Name', 'Sex', 'Age', 'SibSp',\n",
       "       'Parch', 'Ticket', 'Fare', 'Cabin', 'Embarked', 'train_test'],\n",
       "      dtype='object')"
      ]
     },
     "execution_count": 12,
     "metadata": {},
     "output_type": "execute_result"
    }
   ],
   "source": [
    "full_df.columns"
   ]
  },
  {
   "cell_type": "markdown",
   "id": "7f211efc",
   "metadata": {
    "papermill": {
     "duration": 0.054134,
     "end_time": "2022-06-23T18:14:15.488822",
     "exception": false,
     "start_time": "2022-06-23T18:14:15.434688",
     "status": "completed"
    },
    "tags": []
   },
   "source": [
    "## let's do some basic data preprocessing"
   ]
  },
  {
   "cell_type": "code",
   "execution_count": 13,
   "id": "1f63b342",
   "metadata": {
    "execution": {
     "iopub.execute_input": "2022-06-23T18:14:15.599439Z",
     "iopub.status.busy": "2022-06-23T18:14:15.598938Z",
     "iopub.status.idle": "2022-06-23T18:14:15.606691Z",
     "shell.execute_reply": "2022-06-23T18:14:15.606021Z"
    },
    "papermill": {
     "duration": 0.065869,
     "end_time": "2022-06-23T18:14:15.608556",
     "exception": false,
     "start_time": "2022-06-23T18:14:15.542687",
     "status": "completed"
    },
    "tags": []
   },
   "outputs": [
    {
     "data": {
      "text/plain": [
       "PassengerId       0\n",
       "Survived        418\n",
       "Pclass            0\n",
       "Name              0\n",
       "Sex               0\n",
       "Age             263\n",
       "SibSp             0\n",
       "Parch             0\n",
       "Ticket            0\n",
       "Fare              1\n",
       "Cabin          1014\n",
       "Embarked          2\n",
       "train_test        0\n",
       "dtype: int64"
      ]
     },
     "execution_count": 13,
     "metadata": {},
     "output_type": "execute_result"
    }
   ],
   "source": [
    "#find null values in our training data \n",
    "full_df.isnull().sum()"
   ]
  },
  {
   "cell_type": "code",
   "execution_count": 14,
   "id": "5fa2fef9",
   "metadata": {
    "execution": {
     "iopub.execute_input": "2022-06-23T18:14:15.720245Z",
     "iopub.status.busy": "2022-06-23T18:14:15.719733Z",
     "iopub.status.idle": "2022-06-23T18:14:15.737783Z",
     "shell.execute_reply": "2022-06-23T18:14:15.737211Z"
    },
    "papermill": {
     "duration": 0.076483,
     "end_time": "2022-06-23T18:14:15.739692",
     "exception": false,
     "start_time": "2022-06-23T18:14:15.663209",
     "status": "completed"
    },
    "tags": []
   },
   "outputs": [
    {
     "data": {
      "text/html": [
       "<div>\n",
       "<style scoped>\n",
       "    .dataframe tbody tr th:only-of-type {\n",
       "        vertical-align: middle;\n",
       "    }\n",
       "\n",
       "    .dataframe tbody tr th {\n",
       "        vertical-align: top;\n",
       "    }\n",
       "\n",
       "    .dataframe thead th {\n",
       "        text-align: right;\n",
       "    }\n",
       "</style>\n",
       "<table border=\"1\" class=\"dataframe\">\n",
       "  <thead>\n",
       "    <tr style=\"text-align: right;\">\n",
       "      <th></th>\n",
       "      <th>PassengerId</th>\n",
       "      <th>Survived</th>\n",
       "      <th>Pclass</th>\n",
       "      <th>Name</th>\n",
       "      <th>Sex</th>\n",
       "      <th>Age</th>\n",
       "      <th>SibSp</th>\n",
       "      <th>Parch</th>\n",
       "      <th>Ticket</th>\n",
       "      <th>Fare</th>\n",
       "      <th>Embarked</th>\n",
       "      <th>train_test</th>\n",
       "      <th>Cabin_class</th>\n",
       "    </tr>\n",
       "  </thead>\n",
       "  <tbody>\n",
       "    <tr>\n",
       "      <th>0</th>\n",
       "      <td>1</td>\n",
       "      <td>0.0</td>\n",
       "      <td>3</td>\n",
       "      <td>Braund, Mr. Owen Harris</td>\n",
       "      <td>male</td>\n",
       "      <td>22.0</td>\n",
       "      <td>1</td>\n",
       "      <td>0</td>\n",
       "      <td>A/5 21171</td>\n",
       "      <td>7.2500</td>\n",
       "      <td>S</td>\n",
       "      <td>1</td>\n",
       "      <td>0</td>\n",
       "    </tr>\n",
       "    <tr>\n",
       "      <th>1</th>\n",
       "      <td>2</td>\n",
       "      <td>1.0</td>\n",
       "      <td>1</td>\n",
       "      <td>Cumings, Mrs. John Bradley (Florence Briggs Th...</td>\n",
       "      <td>female</td>\n",
       "      <td>38.0</td>\n",
       "      <td>1</td>\n",
       "      <td>0</td>\n",
       "      <td>PC 17599</td>\n",
       "      <td>71.2833</td>\n",
       "      <td>C</td>\n",
       "      <td>1</td>\n",
       "      <td>1</td>\n",
       "    </tr>\n",
       "    <tr>\n",
       "      <th>2</th>\n",
       "      <td>3</td>\n",
       "      <td>1.0</td>\n",
       "      <td>3</td>\n",
       "      <td>Heikkinen, Miss. Laina</td>\n",
       "      <td>female</td>\n",
       "      <td>26.0</td>\n",
       "      <td>0</td>\n",
       "      <td>0</td>\n",
       "      <td>STON/O2. 3101282</td>\n",
       "      <td>7.9250</td>\n",
       "      <td>S</td>\n",
       "      <td>1</td>\n",
       "      <td>0</td>\n",
       "    </tr>\n",
       "    <tr>\n",
       "      <th>3</th>\n",
       "      <td>4</td>\n",
       "      <td>1.0</td>\n",
       "      <td>1</td>\n",
       "      <td>Futrelle, Mrs. Jacques Heath (Lily May Peel)</td>\n",
       "      <td>female</td>\n",
       "      <td>35.0</td>\n",
       "      <td>1</td>\n",
       "      <td>0</td>\n",
       "      <td>113803</td>\n",
       "      <td>53.1000</td>\n",
       "      <td>S</td>\n",
       "      <td>1</td>\n",
       "      <td>1</td>\n",
       "    </tr>\n",
       "    <tr>\n",
       "      <th>4</th>\n",
       "      <td>5</td>\n",
       "      <td>0.0</td>\n",
       "      <td>3</td>\n",
       "      <td>Allen, Mr. William Henry</td>\n",
       "      <td>male</td>\n",
       "      <td>35.0</td>\n",
       "      <td>0</td>\n",
       "      <td>0</td>\n",
       "      <td>373450</td>\n",
       "      <td>8.0500</td>\n",
       "      <td>S</td>\n",
       "      <td>1</td>\n",
       "      <td>0</td>\n",
       "    </tr>\n",
       "  </tbody>\n",
       "</table>\n",
       "</div>"
      ],
      "text/plain": [
       "   PassengerId  Survived  Pclass  \\\n",
       "0            1       0.0       3   \n",
       "1            2       1.0       1   \n",
       "2            3       1.0       3   \n",
       "3            4       1.0       1   \n",
       "4            5       0.0       3   \n",
       "\n",
       "                                                Name     Sex   Age  SibSp  \\\n",
       "0                            Braund, Mr. Owen Harris    male  22.0      1   \n",
       "1  Cumings, Mrs. John Bradley (Florence Briggs Th...  female  38.0      1   \n",
       "2                             Heikkinen, Miss. Laina  female  26.0      0   \n",
       "3       Futrelle, Mrs. Jacques Heath (Lily May Peel)  female  35.0      1   \n",
       "4                           Allen, Mr. William Henry    male  35.0      0   \n",
       "\n",
       "   Parch            Ticket     Fare Embarked  train_test  Cabin_class  \n",
       "0      0         A/5 21171   7.2500        S           1            0  \n",
       "1      0          PC 17599  71.2833        C           1            1  \n",
       "2      0  STON/O2. 3101282   7.9250        S           1            0  \n",
       "3      0            113803  53.1000        S           1            1  \n",
       "4      0            373450   8.0500        S           1            0  "
      ]
     },
     "execution_count": 14,
     "metadata": {},
     "output_type": "execute_result"
    }
   ],
   "source": [
    "# let's create a feature out of if cabin class is availabel \n",
    "\n",
    "full_df['Cabin_class'] = np.where(full_df['Cabin'].isna(),0,1)\n",
    "full_df = pd.DataFrame(full_df.drop('Cabin', axis = 1))\n",
    "full_df.head()"
   ]
  },
  {
   "cell_type": "code",
   "execution_count": 15,
   "id": "9b05d8ba",
   "metadata": {
    "execution": {
     "iopub.execute_input": "2022-06-23T18:14:15.851970Z",
     "iopub.status.busy": "2022-06-23T18:14:15.851493Z",
     "iopub.status.idle": "2022-06-23T18:14:15.917449Z",
     "shell.execute_reply": "2022-06-23T18:14:15.916690Z"
    },
    "papermill": {
     "duration": 0.123984,
     "end_time": "2022-06-23T18:14:15.919573",
     "exception": false,
     "start_time": "2022-06-23T18:14:15.795589",
     "status": "completed"
    },
    "tags": []
   },
   "outputs": [
    {
     "data": {
      "text/html": [
       "<div>\n",
       "<style scoped>\n",
       "    .dataframe tbody tr th:only-of-type {\n",
       "        vertical-align: middle;\n",
       "    }\n",
       "\n",
       "    .dataframe tbody tr th {\n",
       "        vertical-align: top;\n",
       "    }\n",
       "\n",
       "    .dataframe thead th {\n",
       "        text-align: right;\n",
       "    }\n",
       "</style>\n",
       "<table border=\"1\" class=\"dataframe\">\n",
       "  <thead>\n",
       "    <tr style=\"text-align: right;\">\n",
       "      <th></th>\n",
       "      <th>Sex_female</th>\n",
       "      <th>Sex_male</th>\n",
       "      <th>Embarked_C</th>\n",
       "      <th>Embarked_Q</th>\n",
       "      <th>Embarked_S</th>\n",
       "      <th>Embarked_nan</th>\n",
       "      <th>PassengerId</th>\n",
       "      <th>Survived</th>\n",
       "      <th>Pclass</th>\n",
       "      <th>Name</th>\n",
       "      <th>Age</th>\n",
       "      <th>SibSp</th>\n",
       "      <th>Parch</th>\n",
       "      <th>Ticket</th>\n",
       "      <th>Fare</th>\n",
       "      <th>train_test</th>\n",
       "      <th>Cabin_class</th>\n",
       "    </tr>\n",
       "  </thead>\n",
       "  <tbody>\n",
       "    <tr>\n",
       "      <th>0</th>\n",
       "      <td>0.0</td>\n",
       "      <td>1.0</td>\n",
       "      <td>0.0</td>\n",
       "      <td>0.0</td>\n",
       "      <td>1.0</td>\n",
       "      <td>0.0</td>\n",
       "      <td>1</td>\n",
       "      <td>0.0</td>\n",
       "      <td>3</td>\n",
       "      <td>Braund, Mr. Owen Harris</td>\n",
       "      <td>22.0</td>\n",
       "      <td>1</td>\n",
       "      <td>0</td>\n",
       "      <td>A/5 21171</td>\n",
       "      <td>7.25</td>\n",
       "      <td>1</td>\n",
       "      <td>0</td>\n",
       "    </tr>\n",
       "    <tr>\n",
       "      <th>1</th>\n",
       "      <td>1.0</td>\n",
       "      <td>0.0</td>\n",
       "      <td>1.0</td>\n",
       "      <td>0.0</td>\n",
       "      <td>0.0</td>\n",
       "      <td>0.0</td>\n",
       "      <td>2</td>\n",
       "      <td>1.0</td>\n",
       "      <td>1</td>\n",
       "      <td>Cumings, Mrs. John Bradley (Florence Briggs Th...</td>\n",
       "      <td>38.0</td>\n",
       "      <td>1</td>\n",
       "      <td>0</td>\n",
       "      <td>PC 17599</td>\n",
       "      <td>71.2833</td>\n",
       "      <td>1</td>\n",
       "      <td>1</td>\n",
       "    </tr>\n",
       "    <tr>\n",
       "      <th>2</th>\n",
       "      <td>1.0</td>\n",
       "      <td>0.0</td>\n",
       "      <td>0.0</td>\n",
       "      <td>0.0</td>\n",
       "      <td>1.0</td>\n",
       "      <td>0.0</td>\n",
       "      <td>3</td>\n",
       "      <td>1.0</td>\n",
       "      <td>3</td>\n",
       "      <td>Heikkinen, Miss. Laina</td>\n",
       "      <td>26.0</td>\n",
       "      <td>0</td>\n",
       "      <td>0</td>\n",
       "      <td>STON/O2. 3101282</td>\n",
       "      <td>7.925</td>\n",
       "      <td>1</td>\n",
       "      <td>0</td>\n",
       "    </tr>\n",
       "    <tr>\n",
       "      <th>3</th>\n",
       "      <td>1.0</td>\n",
       "      <td>0.0</td>\n",
       "      <td>0.0</td>\n",
       "      <td>0.0</td>\n",
       "      <td>1.0</td>\n",
       "      <td>0.0</td>\n",
       "      <td>4</td>\n",
       "      <td>1.0</td>\n",
       "      <td>1</td>\n",
       "      <td>Futrelle, Mrs. Jacques Heath (Lily May Peel)</td>\n",
       "      <td>35.0</td>\n",
       "      <td>1</td>\n",
       "      <td>0</td>\n",
       "      <td>113803</td>\n",
       "      <td>53.1</td>\n",
       "      <td>1</td>\n",
       "      <td>1</td>\n",
       "    </tr>\n",
       "    <tr>\n",
       "      <th>4</th>\n",
       "      <td>0.0</td>\n",
       "      <td>1.0</td>\n",
       "      <td>0.0</td>\n",
       "      <td>0.0</td>\n",
       "      <td>1.0</td>\n",
       "      <td>0.0</td>\n",
       "      <td>5</td>\n",
       "      <td>0.0</td>\n",
       "      <td>3</td>\n",
       "      <td>Allen, Mr. William Henry</td>\n",
       "      <td>35.0</td>\n",
       "      <td>0</td>\n",
       "      <td>0</td>\n",
       "      <td>373450</td>\n",
       "      <td>8.05</td>\n",
       "      <td>1</td>\n",
       "      <td>0</td>\n",
       "    </tr>\n",
       "  </tbody>\n",
       "</table>\n",
       "</div>"
      ],
      "text/plain": [
       "  Sex_female Sex_male Embarked_C Embarked_Q Embarked_S Embarked_nan  \\\n",
       "0        0.0      1.0        0.0        0.0        1.0          0.0   \n",
       "1        1.0      0.0        1.0        0.0        0.0          0.0   \n",
       "2        1.0      0.0        0.0        0.0        1.0          0.0   \n",
       "3        1.0      0.0        0.0        0.0        1.0          0.0   \n",
       "4        0.0      1.0        0.0        0.0        1.0          0.0   \n",
       "\n",
       "  PassengerId Survived Pclass  \\\n",
       "0           1      0.0      3   \n",
       "1           2      1.0      1   \n",
       "2           3      1.0      3   \n",
       "3           4      1.0      1   \n",
       "4           5      0.0      3   \n",
       "\n",
       "                                                Name   Age SibSp Parch  \\\n",
       "0                            Braund, Mr. Owen Harris  22.0     1     0   \n",
       "1  Cumings, Mrs. John Bradley (Florence Briggs Th...  38.0     1     0   \n",
       "2                             Heikkinen, Miss. Laina  26.0     0     0   \n",
       "3       Futrelle, Mrs. Jacques Heath (Lily May Peel)  35.0     1     0   \n",
       "4                           Allen, Mr. William Henry  35.0     0     0   \n",
       "\n",
       "             Ticket     Fare train_test Cabin_class  \n",
       "0         A/5 21171     7.25          1           0  \n",
       "1          PC 17599  71.2833          1           1  \n",
       "2  STON/O2. 3101282    7.925          1           0  \n",
       "3            113803     53.1          1           1  \n",
       "4            373450     8.05          1           0  "
      ]
     },
     "execution_count": 15,
     "metadata": {},
     "output_type": "execute_result"
    }
   ],
   "source": [
    "from sklearn.preprocessing import OneHotEncoder\n",
    "from sklearn.compose import make_column_transformer\n",
    "\n",
    "transformer = make_column_transformer(\n",
    "    (OneHotEncoder(), ['Sex', 'Embarked']),\n",
    "    remainder='passthrough',\n",
    "    verbose_feature_names_out = False)\n",
    "\n",
    "transformed = transformer.fit_transform(full_df)\n",
    "full_df_encoded = pd.DataFrame(\n",
    "    transformed, \n",
    "    columns=transformer.get_feature_names_out())\n",
    "\n",
    "full_df_encoded.head()"
   ]
  },
  {
   "cell_type": "code",
   "execution_count": 16,
   "id": "8b55b8d2",
   "metadata": {
    "execution": {
     "iopub.execute_input": "2022-06-23T18:14:16.034340Z",
     "iopub.status.busy": "2022-06-23T18:14:16.033579Z",
     "iopub.status.idle": "2022-06-23T18:14:16.050652Z",
     "shell.execute_reply": "2022-06-23T18:14:16.050092Z"
    },
    "papermill": {
     "duration": 0.07652,
     "end_time": "2022-06-23T18:14:16.052366",
     "exception": false,
     "start_time": "2022-06-23T18:14:15.975846",
     "status": "completed"
    },
    "tags": []
   },
   "outputs": [
    {
     "data": {
      "text/html": [
       "<div>\n",
       "<style scoped>\n",
       "    .dataframe tbody tr th:only-of-type {\n",
       "        vertical-align: middle;\n",
       "    }\n",
       "\n",
       "    .dataframe tbody tr th {\n",
       "        vertical-align: top;\n",
       "    }\n",
       "\n",
       "    .dataframe thead th {\n",
       "        text-align: right;\n",
       "    }\n",
       "</style>\n",
       "<table border=\"1\" class=\"dataframe\">\n",
       "  <thead>\n",
       "    <tr style=\"text-align: right;\">\n",
       "      <th></th>\n",
       "      <th>Sex_female</th>\n",
       "      <th>Sex_male</th>\n",
       "      <th>Embarked_C</th>\n",
       "      <th>Embarked_Q</th>\n",
       "      <th>Embarked_S</th>\n",
       "      <th>Embarked_nan</th>\n",
       "      <th>PassengerId</th>\n",
       "      <th>Survived</th>\n",
       "      <th>Pclass</th>\n",
       "      <th>Age</th>\n",
       "      <th>Fare</th>\n",
       "      <th>train_test</th>\n",
       "      <th>Cabin_class</th>\n",
       "    </tr>\n",
       "  </thead>\n",
       "  <tbody>\n",
       "    <tr>\n",
       "      <th>0</th>\n",
       "      <td>0.0</td>\n",
       "      <td>1.0</td>\n",
       "      <td>0.0</td>\n",
       "      <td>0.0</td>\n",
       "      <td>1.0</td>\n",
       "      <td>0.0</td>\n",
       "      <td>1</td>\n",
       "      <td>0.0</td>\n",
       "      <td>3</td>\n",
       "      <td>22.0</td>\n",
       "      <td>7.25</td>\n",
       "      <td>1</td>\n",
       "      <td>0</td>\n",
       "    </tr>\n",
       "    <tr>\n",
       "      <th>1</th>\n",
       "      <td>1.0</td>\n",
       "      <td>0.0</td>\n",
       "      <td>1.0</td>\n",
       "      <td>0.0</td>\n",
       "      <td>0.0</td>\n",
       "      <td>0.0</td>\n",
       "      <td>2</td>\n",
       "      <td>1.0</td>\n",
       "      <td>1</td>\n",
       "      <td>38.0</td>\n",
       "      <td>71.2833</td>\n",
       "      <td>1</td>\n",
       "      <td>1</td>\n",
       "    </tr>\n",
       "    <tr>\n",
       "      <th>2</th>\n",
       "      <td>1.0</td>\n",
       "      <td>0.0</td>\n",
       "      <td>0.0</td>\n",
       "      <td>0.0</td>\n",
       "      <td>1.0</td>\n",
       "      <td>0.0</td>\n",
       "      <td>3</td>\n",
       "      <td>1.0</td>\n",
       "      <td>3</td>\n",
       "      <td>26.0</td>\n",
       "      <td>7.925</td>\n",
       "      <td>1</td>\n",
       "      <td>0</td>\n",
       "    </tr>\n",
       "    <tr>\n",
       "      <th>3</th>\n",
       "      <td>1.0</td>\n",
       "      <td>0.0</td>\n",
       "      <td>0.0</td>\n",
       "      <td>0.0</td>\n",
       "      <td>1.0</td>\n",
       "      <td>0.0</td>\n",
       "      <td>4</td>\n",
       "      <td>1.0</td>\n",
       "      <td>1</td>\n",
       "      <td>35.0</td>\n",
       "      <td>53.1</td>\n",
       "      <td>1</td>\n",
       "      <td>1</td>\n",
       "    </tr>\n",
       "    <tr>\n",
       "      <th>4</th>\n",
       "      <td>0.0</td>\n",
       "      <td>1.0</td>\n",
       "      <td>0.0</td>\n",
       "      <td>0.0</td>\n",
       "      <td>1.0</td>\n",
       "      <td>0.0</td>\n",
       "      <td>5</td>\n",
       "      <td>0.0</td>\n",
       "      <td>3</td>\n",
       "      <td>35.0</td>\n",
       "      <td>8.05</td>\n",
       "      <td>1</td>\n",
       "      <td>0</td>\n",
       "    </tr>\n",
       "  </tbody>\n",
       "</table>\n",
       "</div>"
      ],
      "text/plain": [
       "  Sex_female Sex_male Embarked_C Embarked_Q Embarked_S Embarked_nan  \\\n",
       "0        0.0      1.0        0.0        0.0        1.0          0.0   \n",
       "1        1.0      0.0        1.0        0.0        0.0          0.0   \n",
       "2        1.0      0.0        0.0        0.0        1.0          0.0   \n",
       "3        1.0      0.0        0.0        0.0        1.0          0.0   \n",
       "4        0.0      1.0        0.0        0.0        1.0          0.0   \n",
       "\n",
       "  PassengerId Survived Pclass   Age     Fare train_test Cabin_class  \n",
       "0           1      0.0      3  22.0     7.25          1           0  \n",
       "1           2      1.0      1  38.0  71.2833          1           1  \n",
       "2           3      1.0      3  26.0    7.925          1           0  \n",
       "3           4      1.0      1  35.0     53.1          1           1  \n",
       "4           5      0.0      3  35.0     8.05          1           0  "
      ]
     },
     "execution_count": 16,
     "metadata": {},
     "output_type": "execute_result"
    }
   ],
   "source": [
    "full_df_encoded_trim= full_df_encoded.drop(['Name', 'SibSp', 'Parch','Ticket'], axis = 1)\n",
    "full_df_encoded_trim.head()"
   ]
  },
  {
   "cell_type": "markdown",
   "id": "5133b612",
   "metadata": {
    "papermill": {
     "duration": 0.055836,
     "end_time": "2022-06-23T18:14:16.164853",
     "exception": false,
     "start_time": "2022-06-23T18:14:16.109017",
     "status": "completed"
    },
    "tags": []
   },
   "source": [
    "### break back into train and test "
   ]
  },
  {
   "cell_type": "code",
   "execution_count": 17,
   "id": "3d161b03",
   "metadata": {
    "execution": {
     "iopub.execute_input": "2022-06-23T18:14:16.278728Z",
     "iopub.status.busy": "2022-06-23T18:14:16.278239Z",
     "iopub.status.idle": "2022-06-23T18:14:16.288073Z",
     "shell.execute_reply": "2022-06-23T18:14:16.286804Z"
    },
    "papermill": {
     "duration": 0.069242,
     "end_time": "2022-06-23T18:14:16.290139",
     "exception": false,
     "start_time": "2022-06-23T18:14:16.220897",
     "status": "completed"
    },
    "tags": []
   },
   "outputs": [
    {
     "name": "stdout",
     "output_type": "stream",
     "text": [
      "training shape: (891, 12)\n",
      "testing shape: (418, 12)\n"
     ]
    }
   ],
   "source": [
    "X_train = full_df_encoded_trim[full_df_encoded_trim.train_test == 1].drop(['train_test'], axis =1)\n",
    "X_test = full_df_encoded_trim[full_df_encoded_trim.train_test == 0].drop(['train_test'], axis =1)\n",
    "print('training shape:', X_train.shape)\n",
    "print('testing shape:', X_test.shape)"
   ]
  },
  {
   "cell_type": "code",
   "execution_count": 18,
   "id": "c3232c1f",
   "metadata": {
    "execution": {
     "iopub.execute_input": "2022-06-23T18:14:16.404841Z",
     "iopub.status.busy": "2022-06-23T18:14:16.404514Z",
     "iopub.status.idle": "2022-06-23T18:14:16.422852Z",
     "shell.execute_reply": "2022-06-23T18:14:16.421933Z"
    },
    "papermill": {
     "duration": 0.078044,
     "end_time": "2022-06-23T18:14:16.424899",
     "exception": false,
     "start_time": "2022-06-23T18:14:16.346855",
     "status": "completed"
    },
    "tags": []
   },
   "outputs": [
    {
     "data": {
      "text/html": [
       "<div>\n",
       "<style scoped>\n",
       "    .dataframe tbody tr th:only-of-type {\n",
       "        vertical-align: middle;\n",
       "    }\n",
       "\n",
       "    .dataframe tbody tr th {\n",
       "        vertical-align: top;\n",
       "    }\n",
       "\n",
       "    .dataframe thead th {\n",
       "        text-align: right;\n",
       "    }\n",
       "</style>\n",
       "<table border=\"1\" class=\"dataframe\">\n",
       "  <thead>\n",
       "    <tr style=\"text-align: right;\">\n",
       "      <th></th>\n",
       "      <th>Sex_female</th>\n",
       "      <th>Sex_male</th>\n",
       "      <th>Embarked_C</th>\n",
       "      <th>Embarked_Q</th>\n",
       "      <th>Embarked_S</th>\n",
       "      <th>Embarked_nan</th>\n",
       "      <th>PassengerId</th>\n",
       "      <th>Survived</th>\n",
       "      <th>Pclass</th>\n",
       "      <th>Age</th>\n",
       "      <th>Fare</th>\n",
       "      <th>Cabin_class</th>\n",
       "    </tr>\n",
       "  </thead>\n",
       "  <tbody>\n",
       "    <tr>\n",
       "      <th>0</th>\n",
       "      <td>0.0</td>\n",
       "      <td>1.0</td>\n",
       "      <td>0.0</td>\n",
       "      <td>0.0</td>\n",
       "      <td>1.0</td>\n",
       "      <td>0.0</td>\n",
       "      <td>1</td>\n",
       "      <td>0.0</td>\n",
       "      <td>3</td>\n",
       "      <td>22.0</td>\n",
       "      <td>7.25</td>\n",
       "      <td>0</td>\n",
       "    </tr>\n",
       "    <tr>\n",
       "      <th>1</th>\n",
       "      <td>1.0</td>\n",
       "      <td>0.0</td>\n",
       "      <td>1.0</td>\n",
       "      <td>0.0</td>\n",
       "      <td>0.0</td>\n",
       "      <td>0.0</td>\n",
       "      <td>2</td>\n",
       "      <td>1.0</td>\n",
       "      <td>1</td>\n",
       "      <td>38.0</td>\n",
       "      <td>71.2833</td>\n",
       "      <td>1</td>\n",
       "    </tr>\n",
       "    <tr>\n",
       "      <th>2</th>\n",
       "      <td>1.0</td>\n",
       "      <td>0.0</td>\n",
       "      <td>0.0</td>\n",
       "      <td>0.0</td>\n",
       "      <td>1.0</td>\n",
       "      <td>0.0</td>\n",
       "      <td>3</td>\n",
       "      <td>1.0</td>\n",
       "      <td>3</td>\n",
       "      <td>26.0</td>\n",
       "      <td>7.925</td>\n",
       "      <td>0</td>\n",
       "    </tr>\n",
       "    <tr>\n",
       "      <th>3</th>\n",
       "      <td>1.0</td>\n",
       "      <td>0.0</td>\n",
       "      <td>0.0</td>\n",
       "      <td>0.0</td>\n",
       "      <td>1.0</td>\n",
       "      <td>0.0</td>\n",
       "      <td>4</td>\n",
       "      <td>1.0</td>\n",
       "      <td>1</td>\n",
       "      <td>35.0</td>\n",
       "      <td>53.1</td>\n",
       "      <td>1</td>\n",
       "    </tr>\n",
       "    <tr>\n",
       "      <th>4</th>\n",
       "      <td>0.0</td>\n",
       "      <td>1.0</td>\n",
       "      <td>0.0</td>\n",
       "      <td>0.0</td>\n",
       "      <td>1.0</td>\n",
       "      <td>0.0</td>\n",
       "      <td>5</td>\n",
       "      <td>0.0</td>\n",
       "      <td>3</td>\n",
       "      <td>35.0</td>\n",
       "      <td>8.05</td>\n",
       "      <td>0</td>\n",
       "    </tr>\n",
       "  </tbody>\n",
       "</table>\n",
       "</div>"
      ],
      "text/plain": [
       "  Sex_female Sex_male Embarked_C Embarked_Q Embarked_S Embarked_nan  \\\n",
       "0        0.0      1.0        0.0        0.0        1.0          0.0   \n",
       "1        1.0      0.0        1.0        0.0        0.0          0.0   \n",
       "2        1.0      0.0        0.0        0.0        1.0          0.0   \n",
       "3        1.0      0.0        0.0        0.0        1.0          0.0   \n",
       "4        0.0      1.0        0.0        0.0        1.0          0.0   \n",
       "\n",
       "  PassengerId Survived Pclass   Age     Fare Cabin_class  \n",
       "0           1      0.0      3  22.0     7.25           0  \n",
       "1           2      1.0      1  38.0  71.2833           1  \n",
       "2           3      1.0      3  26.0    7.925           0  \n",
       "3           4      1.0      1  35.0     53.1           1  \n",
       "4           5      0.0      3  35.0     8.05           0  "
      ]
     },
     "execution_count": 18,
     "metadata": {},
     "output_type": "execute_result"
    }
   ],
   "source": [
    "X_train.head()"
   ]
  },
  {
   "cell_type": "code",
   "execution_count": 19,
   "id": "13b385bb",
   "metadata": {
    "execution": {
     "iopub.execute_input": "2022-06-23T18:14:16.544086Z",
     "iopub.status.busy": "2022-06-23T18:14:16.543182Z",
     "iopub.status.idle": "2022-06-23T18:14:16.550671Z",
     "shell.execute_reply": "2022-06-23T18:14:16.549937Z"
    },
    "papermill": {
     "duration": 0.069412,
     "end_time": "2022-06-23T18:14:16.552669",
     "exception": false,
     "start_time": "2022-06-23T18:14:16.483257",
     "status": "completed"
    },
    "tags": []
   },
   "outputs": [
    {
     "data": {
      "text/plain": [
       "0    0.0\n",
       "1    1.0\n",
       "2    1.0\n",
       "3    1.0\n",
       "4    0.0\n",
       "Name: Survived, dtype: object"
      ]
     },
     "execution_count": 19,
     "metadata": {},
     "output_type": "execute_result"
    }
   ],
   "source": [
    "y = X_train.Survived\n",
    "y.head()"
   ]
  },
  {
   "cell_type": "code",
   "execution_count": 20,
   "id": "d51c2f39",
   "metadata": {
    "execution": {
     "iopub.execute_input": "2022-06-23T18:14:16.669510Z",
     "iopub.status.busy": "2022-06-23T18:14:16.668930Z",
     "iopub.status.idle": "2022-06-23T18:14:16.674284Z",
     "shell.execute_reply": "2022-06-23T18:14:16.673711Z"
    },
    "papermill": {
     "duration": 0.065887,
     "end_time": "2022-06-23T18:14:16.676222",
     "exception": false,
     "start_time": "2022-06-23T18:14:16.610335",
     "status": "completed"
    },
    "tags": []
   },
   "outputs": [],
   "source": [
    "X_train = X_train.drop('Survived', axis = 1)"
   ]
  },
  {
   "cell_type": "code",
   "execution_count": 21,
   "id": "d0e4f6f1",
   "metadata": {
    "execution": {
     "iopub.execute_input": "2022-06-23T18:14:16.793362Z",
     "iopub.status.busy": "2022-06-23T18:14:16.792786Z",
     "iopub.status.idle": "2022-06-23T18:14:16.860413Z",
     "shell.execute_reply": "2022-06-23T18:14:16.859821Z"
    },
    "papermill": {
     "duration": 0.128491,
     "end_time": "2022-06-23T18:14:16.862645",
     "exception": false,
     "start_time": "2022-06-23T18:14:16.734154",
     "status": "completed"
    },
    "tags": []
   },
   "outputs": [],
   "source": [
    "from sklearn.model_selection import train_test_split\n",
    "X_train, X_valid, y_train, y_valid = train_test_split(X_train,y,train_size=0.8, test_size=0.2,random_state=0)"
   ]
  },
  {
   "cell_type": "code",
   "execution_count": 22,
   "id": "db4309c8",
   "metadata": {
    "execution": {
     "iopub.execute_input": "2022-06-23T18:14:16.979875Z",
     "iopub.status.busy": "2022-06-23T18:14:16.979584Z",
     "iopub.status.idle": "2022-06-23T18:14:16.986279Z",
     "shell.execute_reply": "2022-06-23T18:14:16.985463Z"
    },
    "papermill": {
     "duration": 0.067955,
     "end_time": "2022-06-23T18:14:16.988533",
     "exception": false,
     "start_time": "2022-06-23T18:14:16.920578",
     "status": "completed"
    },
    "tags": []
   },
   "outputs": [
    {
     "data": {
      "text/plain": [
       "495    0.0\n",
       "648    0.0\n",
       "278    0.0\n",
       "31     1.0\n",
       "255    1.0\n",
       "Name: Survived, dtype: object"
      ]
     },
     "execution_count": 22,
     "metadata": {},
     "output_type": "execute_result"
    }
   ],
   "source": [
    "y_valid.head()"
   ]
  },
  {
   "cell_type": "code",
   "execution_count": 23,
   "id": "c6e46bfa",
   "metadata": {
    "execution": {
     "iopub.execute_input": "2022-06-23T18:14:17.109592Z",
     "iopub.status.busy": "2022-06-23T18:14:17.109299Z",
     "iopub.status.idle": "2022-06-23T18:14:17.114786Z",
     "shell.execute_reply": "2022-06-23T18:14:17.113917Z"
    },
    "papermill": {
     "duration": 0.068569,
     "end_time": "2022-06-23T18:14:17.117113",
     "exception": false,
     "start_time": "2022-06-23T18:14:17.048544",
     "status": "completed"
    },
    "tags": []
   },
   "outputs": [
    {
     "name": "stdout",
     "output_type": "stream",
     "text": [
      "train shape: (712, 11) (712,)\n",
      "valid shape: (179, 11) (179,)\n"
     ]
    }
   ],
   "source": [
    "print(\"train shape:\", X_train.shape, y_train.shape)\n",
    "print(\"valid shape:\", X_valid.shape, y_valid.shape)"
   ]
  },
  {
   "cell_type": "code",
   "execution_count": 24,
   "id": "382bd72e",
   "metadata": {
    "execution": {
     "iopub.execute_input": "2022-06-23T18:14:17.235409Z",
     "iopub.status.busy": "2022-06-23T18:14:17.234901Z",
     "iopub.status.idle": "2022-06-23T18:14:17.244775Z",
     "shell.execute_reply": "2022-06-23T18:14:17.243842Z"
    },
    "papermill": {
     "duration": 0.071378,
     "end_time": "2022-06-23T18:14:17.246754",
     "exception": false,
     "start_time": "2022-06-23T18:14:17.175376",
     "status": "completed"
    },
    "tags": []
   },
   "outputs": [
    {
     "data": {
      "text/html": [
       "<div>\n",
       "<style scoped>\n",
       "    .dataframe tbody tr th:only-of-type {\n",
       "        vertical-align: middle;\n",
       "    }\n",
       "\n",
       "    .dataframe tbody tr th {\n",
       "        vertical-align: top;\n",
       "    }\n",
       "\n",
       "    .dataframe thead th {\n",
       "        text-align: right;\n",
       "    }\n",
       "</style>\n",
       "<table border=\"1\" class=\"dataframe\">\n",
       "  <thead>\n",
       "    <tr style=\"text-align: right;\">\n",
       "      <th></th>\n",
       "      <th>Survived</th>\n",
       "    </tr>\n",
       "  </thead>\n",
       "  <tbody>\n",
       "    <tr>\n",
       "      <th>891</th>\n",
       "      <td>NaN</td>\n",
       "    </tr>\n",
       "    <tr>\n",
       "      <th>892</th>\n",
       "      <td>NaN</td>\n",
       "    </tr>\n",
       "    <tr>\n",
       "      <th>893</th>\n",
       "      <td>NaN</td>\n",
       "    </tr>\n",
       "    <tr>\n",
       "      <th>894</th>\n",
       "      <td>NaN</td>\n",
       "    </tr>\n",
       "    <tr>\n",
       "      <th>895</th>\n",
       "      <td>NaN</td>\n",
       "    </tr>\n",
       "  </tbody>\n",
       "</table>\n",
       "</div>"
      ],
      "text/plain": [
       "    Survived\n",
       "891      NaN\n",
       "892      NaN\n",
       "893      NaN\n",
       "894      NaN\n",
       "895      NaN"
      ]
     },
     "execution_count": 24,
     "metadata": {},
     "output_type": "execute_result"
    }
   ],
   "source": [
    "y_test = pd.DataFrame(X_test['Survived'])\n",
    "y_test.head()"
   ]
  },
  {
   "cell_type": "code",
   "execution_count": 25,
   "id": "b464d630",
   "metadata": {
    "execution": {
     "iopub.execute_input": "2022-06-23T18:14:17.366458Z",
     "iopub.status.busy": "2022-06-23T18:14:17.365956Z",
     "iopub.status.idle": "2022-06-23T18:14:17.370875Z",
     "shell.execute_reply": "2022-06-23T18:14:17.370311Z"
    },
    "papermill": {
     "duration": 0.06723,
     "end_time": "2022-06-23T18:14:17.372797",
     "exception": false,
     "start_time": "2022-06-23T18:14:17.305567",
     "status": "completed"
    },
    "tags": []
   },
   "outputs": [],
   "source": [
    "X_test = X_test.drop('Survived', axis = 1)"
   ]
  },
  {
   "cell_type": "code",
   "execution_count": 26,
   "id": "2d0086b0",
   "metadata": {
    "execution": {
     "iopub.execute_input": "2022-06-23T18:14:17.491621Z",
     "iopub.status.busy": "2022-06-23T18:14:17.491107Z",
     "iopub.status.idle": "2022-06-23T18:14:17.638193Z",
     "shell.execute_reply": "2022-06-23T18:14:17.637536Z"
    },
    "papermill": {
     "duration": 0.209098,
     "end_time": "2022-06-23T18:14:17.640406",
     "exception": false,
     "start_time": "2022-06-23T18:14:17.431308",
     "status": "completed"
    },
    "tags": []
   },
   "outputs": [],
   "source": [
    "from sklearn.impute import SimpleImputer \n",
    "\n",
    "my_imputer = SimpleImputer() \n",
    "\n",
    "X_train_imputed = pd.DataFrame(my_imputer.fit_transform(X_train)) \n",
    "X_valid_imputed = pd.DataFrame(my_imputer.transform(X_valid))\n",
    "X_test_imputed = pd.DataFrame(my_imputer.transform(X_test))\n",
    "\n",
    "X_train_imputed.columns = X_train.columns\n",
    "X_valid_imputed.columns = X_valid.columns\n",
    "X_test_imputed.columns = X_test.columns\n",
    "\n"
   ]
  },
  {
   "cell_type": "code",
   "execution_count": 27,
   "id": "e50beeb3",
   "metadata": {
    "execution": {
     "iopub.execute_input": "2022-06-23T18:14:17.760295Z",
     "iopub.status.busy": "2022-06-23T18:14:17.759723Z",
     "iopub.status.idle": "2022-06-23T18:14:17.767401Z",
     "shell.execute_reply": "2022-06-23T18:14:17.766382Z"
    },
    "papermill": {
     "duration": 0.070983,
     "end_time": "2022-06-23T18:14:17.769989",
     "exception": false,
     "start_time": "2022-06-23T18:14:17.699006",
     "status": "completed"
    },
    "tags": []
   },
   "outputs": [
    {
     "name": "stdout",
     "output_type": "stream",
     "text": [
      "x_train nulls: Sex_female      0\n",
      "Sex_male        0\n",
      "Embarked_C      0\n",
      "Embarked_Q      0\n",
      "Embarked_S      0\n",
      "Embarked_nan    0\n",
      "PassengerId     0\n",
      "Pclass          0\n",
      "Age             0\n",
      "Fare            0\n",
      "Cabin_class     0\n",
      "dtype: int64\n"
     ]
    }
   ],
   "source": [
    "print('x_train nulls:', X_test_imputed.isnull().sum())"
   ]
  },
  {
   "cell_type": "markdown",
   "id": "bd70ba55",
   "metadata": {
    "papermill": {
     "duration": 0.058534,
     "end_time": "2022-06-23T18:14:17.889701",
     "exception": false,
     "start_time": "2022-06-23T18:14:17.831167",
     "status": "completed"
    },
    "tags": []
   },
   "source": [
    "**stopped here**"
   ]
  },
  {
   "cell_type": "code",
   "execution_count": 28,
   "id": "d870e2e3",
   "metadata": {
    "execution": {
     "iopub.execute_input": "2022-06-23T18:14:18.009699Z",
     "iopub.status.busy": "2022-06-23T18:14:18.009418Z",
     "iopub.status.idle": "2022-06-23T18:14:18.040083Z",
     "shell.execute_reply": "2022-06-23T18:14:18.039539Z"
    },
    "papermill": {
     "duration": 0.092798,
     "end_time": "2022-06-23T18:14:18.041821",
     "exception": false,
     "start_time": "2022-06-23T18:14:17.949023",
     "status": "completed"
    },
    "tags": []
   },
   "outputs": [
    {
     "data": {
      "text/html": [
       "<div>\n",
       "<style scoped>\n",
       "    .dataframe tbody tr th:only-of-type {\n",
       "        vertical-align: middle;\n",
       "    }\n",
       "\n",
       "    .dataframe tbody tr th {\n",
       "        vertical-align: top;\n",
       "    }\n",
       "\n",
       "    .dataframe thead th {\n",
       "        text-align: right;\n",
       "    }\n",
       "</style>\n",
       "<table border=\"1\" class=\"dataframe\">\n",
       "  <thead>\n",
       "    <tr style=\"text-align: right;\">\n",
       "      <th></th>\n",
       "      <th>Sex_female</th>\n",
       "      <th>Sex_male</th>\n",
       "      <th>Embarked_C</th>\n",
       "      <th>Embarked_Q</th>\n",
       "      <th>Embarked_S</th>\n",
       "      <th>Embarked_nan</th>\n",
       "      <th>PassengerId</th>\n",
       "      <th>Pclass</th>\n",
       "      <th>Age</th>\n",
       "      <th>Fare</th>\n",
       "      <th>Cabin_class</th>\n",
       "    </tr>\n",
       "  </thead>\n",
       "  <tbody>\n",
       "    <tr>\n",
       "      <th>0</th>\n",
       "      <td>1.0</td>\n",
       "      <td>0.0</td>\n",
       "      <td>1.0</td>\n",
       "      <td>0.0</td>\n",
       "      <td>0.0</td>\n",
       "      <td>0.0</td>\n",
       "      <td>141.0</td>\n",
       "      <td>1.0</td>\n",
       "      <td>0.366509</td>\n",
       "      <td>0.029758</td>\n",
       "      <td>0.0</td>\n",
       "    </tr>\n",
       "    <tr>\n",
       "      <th>1</th>\n",
       "      <td>0.0</td>\n",
       "      <td>1.0</td>\n",
       "      <td>0.0</td>\n",
       "      <td>0.0</td>\n",
       "      <td>1.0</td>\n",
       "      <td>0.0</td>\n",
       "      <td>440.0</td>\n",
       "      <td>0.5</td>\n",
       "      <td>0.382327</td>\n",
       "      <td>0.020495</td>\n",
       "      <td>0.0</td>\n",
       "    </tr>\n",
       "    <tr>\n",
       "      <th>2</th>\n",
       "      <td>0.0</td>\n",
       "      <td>1.0</td>\n",
       "      <td>1.0</td>\n",
       "      <td>0.0</td>\n",
       "      <td>0.0</td>\n",
       "      <td>0.0</td>\n",
       "      <td>818.0</td>\n",
       "      <td>0.5</td>\n",
       "      <td>0.382327</td>\n",
       "      <td>0.072227</td>\n",
       "      <td>0.0</td>\n",
       "    </tr>\n",
       "    <tr>\n",
       "      <th>3</th>\n",
       "      <td>0.0</td>\n",
       "      <td>1.0</td>\n",
       "      <td>1.0</td>\n",
       "      <td>0.0</td>\n",
       "      <td>0.0</td>\n",
       "      <td>0.0</td>\n",
       "      <td>379.0</td>\n",
       "      <td>1.0</td>\n",
       "      <td>0.243666</td>\n",
       "      <td>0.007832</td>\n",
       "      <td>0.0</td>\n",
       "    </tr>\n",
       "    <tr>\n",
       "      <th>4</th>\n",
       "      <td>0.0</td>\n",
       "      <td>1.0</td>\n",
       "      <td>0.0</td>\n",
       "      <td>0.0</td>\n",
       "      <td>1.0</td>\n",
       "      <td>0.0</td>\n",
       "      <td>492.0</td>\n",
       "      <td>1.0</td>\n",
       "      <td>0.256271</td>\n",
       "      <td>0.014151</td>\n",
       "      <td>0.0</td>\n",
       "    </tr>\n",
       "  </tbody>\n",
       "</table>\n",
       "</div>"
      ],
      "text/plain": [
       "   Sex_female  Sex_male  Embarked_C  Embarked_Q  Embarked_S  Embarked_nan  \\\n",
       "0         1.0       0.0         1.0         0.0         0.0           0.0   \n",
       "1         0.0       1.0         0.0         0.0         1.0           0.0   \n",
       "2         0.0       1.0         1.0         0.0         0.0           0.0   \n",
       "3         0.0       1.0         1.0         0.0         0.0           0.0   \n",
       "4         0.0       1.0         0.0         0.0         1.0           0.0   \n",
       "\n",
       "   PassengerId  Pclass       Age      Fare  Cabin_class  \n",
       "0        141.0     1.0  0.366509  0.029758          0.0  \n",
       "1        440.0     0.5  0.382327  0.020495          0.0  \n",
       "2        818.0     0.5  0.382327  0.072227          0.0  \n",
       "3        379.0     1.0  0.243666  0.007832          0.0  \n",
       "4        492.0     1.0  0.256271  0.014151          0.0  "
      ]
     },
     "execution_count": 28,
     "metadata": {},
     "output_type": "execute_result"
    }
   ],
   "source": [
    "from sklearn.preprocessing import MinMaxScaler\n",
    "\n",
    "my_scaler = MinMaxScaler() \n",
    "X_train_imputed_scaled = pd.DataFrame(X_train_imputed)\n",
    "X_valid_imputed_scaled = pd.DataFrame(X_valid_imputed)\n",
    "X_test_imputed_scaled = pd.DataFrame(X_test_imputed)\n",
    "\n",
    "X_train_imputed_scaled[['Age', 'Pclass', 'Fare']] = my_scaler.fit_transform(X_train_imputed_scaled[['Age', 'Pclass', 'Fare']])\n",
    "X_valid_imputed_scaled[['Age', 'Pclass', 'Fare']] = my_scaler.transform(X_valid_imputed_scaled[['Age', 'Pclass', 'Fare']])\n",
    "X_test_imputed_scaled[['Age', 'Pclass', 'Fare']] = my_scaler.transform(X_test_imputed_scaled[['Age', 'Pclass', 'Fare']])\n",
    "\n",
    "X_train_imputed_scaled.head()"
   ]
  },
  {
   "cell_type": "markdown",
   "id": "558c476c",
   "metadata": {
    "papermill": {
     "duration": 0.061203,
     "end_time": "2022-06-23T18:14:18.163248",
     "exception": false,
     "start_time": "2022-06-23T18:14:18.102045",
     "status": "completed"
    },
    "tags": []
   },
   "source": [
    "# Reworking the notebook from here "
   ]
  },
  {
   "cell_type": "code",
   "execution_count": 29,
   "id": "89ca3edd",
   "metadata": {
    "execution": {
     "iopub.execute_input": "2022-06-23T18:14:18.284951Z",
     "iopub.status.busy": "2022-06-23T18:14:18.284435Z",
     "iopub.status.idle": "2022-06-23T18:14:18.302785Z",
     "shell.execute_reply": "2022-06-23T18:14:18.302130Z"
    },
    "papermill": {
     "duration": 0.081361,
     "end_time": "2022-06-23T18:14:18.304551",
     "exception": false,
     "start_time": "2022-06-23T18:14:18.223190",
     "status": "completed"
    },
    "tags": []
   },
   "outputs": [
    {
     "data": {
      "text/html": [
       "<div>\n",
       "<style scoped>\n",
       "    .dataframe tbody tr th:only-of-type {\n",
       "        vertical-align: middle;\n",
       "    }\n",
       "\n",
       "    .dataframe tbody tr th {\n",
       "        vertical-align: top;\n",
       "    }\n",
       "\n",
       "    .dataframe thead th {\n",
       "        text-align: right;\n",
       "    }\n",
       "</style>\n",
       "<table border=\"1\" class=\"dataframe\">\n",
       "  <thead>\n",
       "    <tr style=\"text-align: right;\">\n",
       "      <th></th>\n",
       "      <th>Sex_female</th>\n",
       "      <th>Sex_male</th>\n",
       "      <th>Embarked_C</th>\n",
       "      <th>Embarked_Q</th>\n",
       "      <th>Embarked_S</th>\n",
       "      <th>Embarked_nan</th>\n",
       "      <th>PassengerId</th>\n",
       "      <th>Pclass</th>\n",
       "      <th>Age</th>\n",
       "      <th>Fare</th>\n",
       "      <th>Cabin_class</th>\n",
       "    </tr>\n",
       "  </thead>\n",
       "  <tbody>\n",
       "    <tr>\n",
       "      <th>0</th>\n",
       "      <td>0.0</td>\n",
       "      <td>1.0</td>\n",
       "      <td>0.0</td>\n",
       "      <td>1.0</td>\n",
       "      <td>0.0</td>\n",
       "      <td>0.0</td>\n",
       "      <td>892.0</td>\n",
       "      <td>1.0</td>\n",
       "      <td>0.426446</td>\n",
       "      <td>0.015282</td>\n",
       "      <td>0.0</td>\n",
       "    </tr>\n",
       "    <tr>\n",
       "      <th>1</th>\n",
       "      <td>1.0</td>\n",
       "      <td>0.0</td>\n",
       "      <td>0.0</td>\n",
       "      <td>0.0</td>\n",
       "      <td>1.0</td>\n",
       "      <td>0.0</td>\n",
       "      <td>893.0</td>\n",
       "      <td>1.0</td>\n",
       "      <td>0.584016</td>\n",
       "      <td>0.013663</td>\n",
       "      <td>0.0</td>\n",
       "    </tr>\n",
       "    <tr>\n",
       "      <th>2</th>\n",
       "      <td>0.0</td>\n",
       "      <td>1.0</td>\n",
       "      <td>0.0</td>\n",
       "      <td>1.0</td>\n",
       "      <td>0.0</td>\n",
       "      <td>0.0</td>\n",
       "      <td>894.0</td>\n",
       "      <td>0.5</td>\n",
       "      <td>0.773100</td>\n",
       "      <td>0.018909</td>\n",
       "      <td>0.0</td>\n",
       "    </tr>\n",
       "    <tr>\n",
       "      <th>3</th>\n",
       "      <td>0.0</td>\n",
       "      <td>1.0</td>\n",
       "      <td>0.0</td>\n",
       "      <td>0.0</td>\n",
       "      <td>1.0</td>\n",
       "      <td>0.0</td>\n",
       "      <td>895.0</td>\n",
       "      <td>1.0</td>\n",
       "      <td>0.331905</td>\n",
       "      <td>0.016908</td>\n",
       "      <td>0.0</td>\n",
       "    </tr>\n",
       "    <tr>\n",
       "      <th>4</th>\n",
       "      <td>1.0</td>\n",
       "      <td>0.0</td>\n",
       "      <td>0.0</td>\n",
       "      <td>0.0</td>\n",
       "      <td>1.0</td>\n",
       "      <td>0.0</td>\n",
       "      <td>896.0</td>\n",
       "      <td>1.0</td>\n",
       "      <td>0.268877</td>\n",
       "      <td>0.023984</td>\n",
       "      <td>0.0</td>\n",
       "    </tr>\n",
       "  </tbody>\n",
       "</table>\n",
       "</div>"
      ],
      "text/plain": [
       "   Sex_female  Sex_male  Embarked_C  Embarked_Q  Embarked_S  Embarked_nan  \\\n",
       "0         0.0       1.0         0.0         1.0         0.0           0.0   \n",
       "1         1.0       0.0         0.0         0.0         1.0           0.0   \n",
       "2         0.0       1.0         0.0         1.0         0.0           0.0   \n",
       "3         0.0       1.0         0.0         0.0         1.0           0.0   \n",
       "4         1.0       0.0         0.0         0.0         1.0           0.0   \n",
       "\n",
       "   PassengerId  Pclass       Age      Fare  Cabin_class  \n",
       "0        892.0     1.0  0.426446  0.015282          0.0  \n",
       "1        893.0     1.0  0.584016  0.013663          0.0  \n",
       "2        894.0     0.5  0.773100  0.018909          0.0  \n",
       "3        895.0     1.0  0.331905  0.016908          0.0  \n",
       "4        896.0     1.0  0.268877  0.023984          0.0  "
      ]
     },
     "execution_count": 29,
     "metadata": {},
     "output_type": "execute_result"
    }
   ],
   "source": [
    "X_test_imputed_scaled.head()"
   ]
  },
  {
   "cell_type": "code",
   "execution_count": 30,
   "id": "76164318",
   "metadata": {
    "execution": {
     "iopub.execute_input": "2022-06-23T18:14:18.428096Z",
     "iopub.status.busy": "2022-06-23T18:14:18.427210Z",
     "iopub.status.idle": "2022-06-23T18:14:31.997638Z",
     "shell.execute_reply": "2022-06-23T18:14:31.996731Z"
    },
    "papermill": {
     "duration": 13.639373,
     "end_time": "2022-06-23T18:14:32.004960",
     "exception": false,
     "start_time": "2022-06-23T18:14:18.365587",
     "status": "completed"
    },
    "tags": []
   },
   "outputs": [
    {
     "data": {
      "text/plain": [
       "<seaborn.axisgrid.PairGrid at 0x7f20c2fd0d90>"
      ]
     },
     "execution_count": 30,
     "metadata": {},
     "output_type": "execute_result"
    },
    {
     "data": {
      "image/png": "[encoded data removed]",
      "text/plain": [
       "<Figure size 1311.88x1260 with 56 Axes>"
      ]
     },
     "metadata": {
      "needs_background": "light"
     },
     "output_type": "display_data"
    }
   ],
   "source": [
    "import seaborn as sb\n",
    "import matplotlib.pyplot as plt\n",
    "\n",
    "sb.pairplot(train_df, hue='Survived')"
   ]
  },
  {
   "cell_type": "code",
   "execution_count": 31,
   "id": "4214f524",
   "metadata": {
    "execution": {
     "iopub.execute_input": "2022-06-23T18:14:32.151307Z",
     "iopub.status.busy": "2022-06-23T18:14:32.150899Z",
     "iopub.status.idle": "2022-06-23T18:14:32.170303Z",
     "shell.execute_reply": "2022-06-23T18:14:32.169497Z"
    },
    "papermill": {
     "duration": 0.094758,
     "end_time": "2022-06-23T18:14:32.172228",
     "exception": false,
     "start_time": "2022-06-23T18:14:32.077470",
     "status": "completed"
    },
    "tags": []
   },
   "outputs": [
    {
     "data": {
      "text/html": [
       "<div>\n",
       "<style scoped>\n",
       "    .dataframe tbody tr th:only-of-type {\n",
       "        vertical-align: middle;\n",
       "    }\n",
       "\n",
       "    .dataframe tbody tr th {\n",
       "        vertical-align: top;\n",
       "    }\n",
       "\n",
       "    .dataframe thead th {\n",
       "        text-align: right;\n",
       "    }\n",
       "</style>\n",
       "<table border=\"1\" class=\"dataframe\">\n",
       "  <thead>\n",
       "    <tr style=\"text-align: right;\">\n",
       "      <th></th>\n",
       "      <th>Sex_female</th>\n",
       "      <th>Sex_male</th>\n",
       "      <th>Embarked_C</th>\n",
       "      <th>Embarked_Q</th>\n",
       "      <th>Embarked_S</th>\n",
       "      <th>Embarked_nan</th>\n",
       "      <th>PassengerId</th>\n",
       "      <th>Pclass</th>\n",
       "      <th>Age</th>\n",
       "      <th>Fare</th>\n",
       "      <th>Cabin_class</th>\n",
       "    </tr>\n",
       "  </thead>\n",
       "  <tbody>\n",
       "    <tr>\n",
       "      <th>0</th>\n",
       "      <td>1.0</td>\n",
       "      <td>0.0</td>\n",
       "      <td>1.0</td>\n",
       "      <td>0.0</td>\n",
       "      <td>0.0</td>\n",
       "      <td>0.0</td>\n",
       "      <td>141.0</td>\n",
       "      <td>1.0</td>\n",
       "      <td>0.366509</td>\n",
       "      <td>0.029758</td>\n",
       "      <td>0.0</td>\n",
       "    </tr>\n",
       "    <tr>\n",
       "      <th>1</th>\n",
       "      <td>0.0</td>\n",
       "      <td>1.0</td>\n",
       "      <td>0.0</td>\n",
       "      <td>0.0</td>\n",
       "      <td>1.0</td>\n",
       "      <td>0.0</td>\n",
       "      <td>440.0</td>\n",
       "      <td>0.5</td>\n",
       "      <td>0.382327</td>\n",
       "      <td>0.020495</td>\n",
       "      <td>0.0</td>\n",
       "    </tr>\n",
       "    <tr>\n",
       "      <th>2</th>\n",
       "      <td>0.0</td>\n",
       "      <td>1.0</td>\n",
       "      <td>1.0</td>\n",
       "      <td>0.0</td>\n",
       "      <td>0.0</td>\n",
       "      <td>0.0</td>\n",
       "      <td>818.0</td>\n",
       "      <td>0.5</td>\n",
       "      <td>0.382327</td>\n",
       "      <td>0.072227</td>\n",
       "      <td>0.0</td>\n",
       "    </tr>\n",
       "    <tr>\n",
       "      <th>3</th>\n",
       "      <td>0.0</td>\n",
       "      <td>1.0</td>\n",
       "      <td>1.0</td>\n",
       "      <td>0.0</td>\n",
       "      <td>0.0</td>\n",
       "      <td>0.0</td>\n",
       "      <td>379.0</td>\n",
       "      <td>1.0</td>\n",
       "      <td>0.243666</td>\n",
       "      <td>0.007832</td>\n",
       "      <td>0.0</td>\n",
       "    </tr>\n",
       "    <tr>\n",
       "      <th>4</th>\n",
       "      <td>0.0</td>\n",
       "      <td>1.0</td>\n",
       "      <td>0.0</td>\n",
       "      <td>0.0</td>\n",
       "      <td>1.0</td>\n",
       "      <td>0.0</td>\n",
       "      <td>492.0</td>\n",
       "      <td>1.0</td>\n",
       "      <td>0.256271</td>\n",
       "      <td>0.014151</td>\n",
       "      <td>0.0</td>\n",
       "    </tr>\n",
       "  </tbody>\n",
       "</table>\n",
       "</div>"
      ],
      "text/plain": [
       "   Sex_female  Sex_male  Embarked_C  Embarked_Q  Embarked_S  Embarked_nan  \\\n",
       "0         1.0       0.0         1.0         0.0         0.0           0.0   \n",
       "1         0.0       1.0         0.0         0.0         1.0           0.0   \n",
       "2         0.0       1.0         1.0         0.0         0.0           0.0   \n",
       "3         0.0       1.0         1.0         0.0         0.0           0.0   \n",
       "4         0.0       1.0         0.0         0.0         1.0           0.0   \n",
       "\n",
       "   PassengerId  Pclass       Age      Fare  Cabin_class  \n",
       "0        141.0     1.0  0.366509  0.029758          0.0  \n",
       "1        440.0     0.5  0.382327  0.020495          0.0  \n",
       "2        818.0     0.5  0.382327  0.072227          0.0  \n",
       "3        379.0     1.0  0.243666  0.007832          0.0  \n",
       "4        492.0     1.0  0.256271  0.014151          0.0  "
      ]
     },
     "execution_count": 31,
     "metadata": {},
     "output_type": "execute_result"
    }
   ],
   "source": [
    "X_train_imputed_scaled.head()"
   ]
  },
  {
   "cell_type": "code",
   "execution_count": 32,
   "id": "79c6cf14",
   "metadata": {
    "execution": {
     "iopub.execute_input": "2022-06-23T18:14:32.319162Z",
     "iopub.status.busy": "2022-06-23T18:14:32.318668Z",
     "iopub.status.idle": "2022-06-23T18:14:32.323999Z",
     "shell.execute_reply": "2022-06-23T18:14:32.322924Z"
    },
    "papermill": {
     "duration": 0.081712,
     "end_time": "2022-06-23T18:14:32.326270",
     "exception": false,
     "start_time": "2022-06-23T18:14:32.244558",
     "status": "completed"
    },
    "tags": []
   },
   "outputs": [],
   "source": [
    "y_train=y_train.astype('int')"
   ]
  },
  {
   "cell_type": "code",
   "execution_count": 33,
   "id": "e362149b",
   "metadata": {
    "execution": {
     "iopub.execute_input": "2022-06-23T18:14:32.475500Z",
     "iopub.status.busy": "2022-06-23T18:14:32.475216Z",
     "iopub.status.idle": "2022-06-23T18:14:32.479415Z",
     "shell.execute_reply": "2022-06-23T18:14:32.478577Z"
    },
    "papermill": {
     "duration": 0.080129,
     "end_time": "2022-06-23T18:14:32.481287",
     "exception": false,
     "start_time": "2022-06-23T18:14:32.401158",
     "status": "completed"
    },
    "tags": []
   },
   "outputs": [],
   "source": [
    "y_valid = y_valid.astype(int)"
   ]
  },
  {
   "cell_type": "code",
   "execution_count": 34,
   "id": "455616b2",
   "metadata": {
    "execution": {
     "iopub.execute_input": "2022-06-23T18:14:32.629003Z",
     "iopub.status.busy": "2022-06-23T18:14:32.628683Z",
     "iopub.status.idle": "2022-06-23T18:14:36.125328Z",
     "shell.execute_reply": "2022-06-23T18:14:36.124378Z"
    },
    "papermill": {
     "duration": 3.573494,
     "end_time": "2022-06-23T18:14:36.128307",
     "exception": false,
     "start_time": "2022-06-23T18:14:32.554813",
     "status": "completed"
    },
    "tags": []
   },
   "outputs": [
    {
     "name": "stdout",
     "output_type": "stream",
     "text": [
      "train score: 0.8665730337078652\n",
      "valid score: 0.8156424581005587\n"
     ]
    },
    {
     "data": {
      "text/plain": [
       "[Text(0.4536290322580645, 0.9285714285714286, 'X[0] <= 0.5\\ngini = 0.473\\nsamples = 712\\nvalue = [439, 273]'),\n",
       " Text(0.19556451612903225, 0.7857142857142857, 'X[8] <= 0.168\\ngini = 0.31\\nsamples = 465\\nvalue = [376, 89]'),\n",
       " Text(0.06451612903225806, 0.6428571428571429, 'X[7] <= 0.75\\ngini = 0.492\\nsamples = 32\\nvalue = [14, 18]'),\n",
       " Text(0.04838709677419355, 0.5, 'gini = 0.0\\nsamples = 11\\nvalue = [0, 11]'),\n",
       " Text(0.08064516129032258, 0.5, 'X[9] <= 0.041\\ngini = 0.444\\nsamples = 21\\nvalue = [14, 7]'),\n",
       " Text(0.03225806451612903, 0.35714285714285715, 'X[2] <= 0.5\\ngini = 0.245\\nsamples = 7\\nvalue = [1, 6]'),\n",
       " Text(0.016129032258064516, 0.21428571428571427, 'gini = 0.0\\nsamples = 5\\nvalue = [0, 5]'),\n",
       " Text(0.04838709677419355, 0.21428571428571427, 'X[8] <= 0.137\\ngini = 0.5\\nsamples = 2\\nvalue = [1, 1]'),\n",
       " Text(0.03225806451612903, 0.07142857142857142, 'gini = 0.0\\nsamples = 1\\nvalue = [1, 0]'),\n",
       " Text(0.06451612903225806, 0.07142857142857142, 'gini = 0.0\\nsamples = 1\\nvalue = [0, 1]'),\n",
       " Text(0.12903225806451613, 0.35714285714285715, 'X[8] <= 0.036\\ngini = 0.133\\nsamples = 14\\nvalue = [13, 1]'),\n",
       " Text(0.11290322580645161, 0.21428571428571427, 'X[8] <= 0.023\\ngini = 0.278\\nsamples = 6\\nvalue = [5, 1]'),\n",
       " Text(0.0967741935483871, 0.07142857142857142, 'gini = 0.0\\nsamples = 5\\nvalue = [5, 0]'),\n",
       " Text(0.12903225806451613, 0.07142857142857142, 'gini = 0.0\\nsamples = 1\\nvalue = [0, 1]'),\n",
       " Text(0.14516129032258066, 0.21428571428571427, 'gini = 0.0\\nsamples = 8\\nvalue = [8, 0]'),\n",
       " Text(0.32661290322580644, 0.6428571428571429, 'X[7] <= 0.25\\ngini = 0.274\\nsamples = 433\\nvalue = [362, 71]'),\n",
       " Text(0.22580645161290322, 0.5, 'X[6] <= 187.0\\ngini = 0.442\\nsamples = 94\\nvalue = [63, 31]'),\n",
       " Text(0.1935483870967742, 0.35714285714285715, 'X[6] <= 30.0\\ngini = 0.1\\nsamples = 19\\nvalue = [18, 1]'),\n",
       " Text(0.1774193548387097, 0.21428571428571427, 'X[8] <= 0.508\\ngini = 0.5\\nsamples = 2\\nvalue = [1, 1]'),\n",
       " Text(0.16129032258064516, 0.07142857142857142, 'gini = 0.0\\nsamples = 1\\nvalue = [0, 1]'),\n",
       " Text(0.1935483870967742, 0.07142857142857142, 'gini = 0.0\\nsamples = 1\\nvalue = [1, 0]'),\n",
       " Text(0.20967741935483872, 0.21428571428571427, 'gini = 0.0\\nsamples = 17\\nvalue = [17, 0]'),\n",
       " Text(0.25806451612903225, 0.35714285714285715, 'X[6] <= 235.5\\ngini = 0.48\\nsamples = 75\\nvalue = [45, 30]'),\n",
       " Text(0.24193548387096775, 0.21428571428571427, 'gini = 0.0\\nsamples = 3\\nvalue = [0, 3]'),\n",
       " Text(0.27419354838709675, 0.21428571428571427, 'X[6] <= 361.5\\ngini = 0.469\\nsamples = 72\\nvalue = [45, 27]'),\n",
       " Text(0.25806451612903225, 0.07142857142857142, 'gini = 0.165\\nsamples = 11\\nvalue = [10, 1]'),\n",
       " Text(0.2903225806451613, 0.07142857142857142, 'gini = 0.489\\nsamples = 61\\nvalue = [35, 26]'),\n",
       " Text(0.4274193548387097, 0.5, 'X[8] <= 0.398\\ngini = 0.208\\nsamples = 339\\nvalue = [299, 40]'),\n",
       " Text(0.3709677419354839, 0.35714285714285715, 'X[8] <= 0.379\\ngini = 0.241\\nsamples = 250\\nvalue = [215, 35]'),\n",
       " Text(0.3387096774193548, 0.21428571428571427, 'X[2] <= 0.5\\ngini = 0.212\\nsamples = 232\\nvalue = [204, 28]'),\n",
       " Text(0.3225806451612903, 0.07142857142857142, 'gini = 0.18\\nsamples = 200\\nvalue = [180, 20]'),\n",
       " Text(0.3548387096774194, 0.07142857142857142, 'gini = 0.375\\nsamples = 32\\nvalue = [24, 8]'),\n",
       " Text(0.4032258064516129, 0.21428571428571427, 'X[6] <= 747.5\\ngini = 0.475\\nsamples = 18\\nvalue = [11, 7]'),\n",
       " Text(0.3870967741935484, 0.07142857142857142, 'gini = 0.5\\nsamples = 14\\nvalue = [7, 7]'),\n",
       " Text(0.41935483870967744, 0.07142857142857142, 'gini = 0.0\\nsamples = 4\\nvalue = [4, 0]'),\n",
       " Text(0.4838709677419355, 0.35714285714285715, 'X[6] <= 433.0\\ngini = 0.106\\nsamples = 89\\nvalue = [84, 5]'),\n",
       " Text(0.46774193548387094, 0.21428571428571427, 'X[6] <= 411.0\\ngini = 0.214\\nsamples = 41\\nvalue = [36, 5]'),\n",
       " Text(0.45161290322580644, 0.07142857142857142, 'gini = 0.18\\nsamples = 40\\nvalue = [36, 4]'),\n",
       " Text(0.4838709677419355, 0.07142857142857142, 'gini = 0.0\\nsamples = 1\\nvalue = [0, 1]'),\n",
       " Text(0.5, 0.21428571428571427, 'gini = 0.0\\nsamples = 48\\nvalue = [48, 0]'),\n",
       " Text(0.7116935483870968, 0.7857142857142857, 'X[7] <= 0.75\\ngini = 0.38\\nsamples = 247\\nvalue = [63, 184]'),\n",
       " Text(0.5645161290322581, 0.6428571428571429, 'X[8] <= 0.023\\ngini = 0.114\\nsamples = 132\\nvalue = [8, 124]'),\n",
       " Text(0.5483870967741935, 0.5, 'gini = 0.0\\nsamples = 1\\nvalue = [1, 0]'),\n",
       " Text(0.5806451612903226, 0.5, 'X[9] <= 0.056\\ngini = 0.101\\nsamples = 131\\nvalue = [7, 124]'),\n",
       " Text(0.5483870967741935, 0.35714285714285715, 'X[9] <= 0.055\\ngini = 0.201\\nsamples = 53\\nvalue = [6, 47]'),\n",
       " Text(0.532258064516129, 0.21428571428571427, 'X[8] <= 0.697\\ngini = 0.174\\nsamples = 52\\nvalue = [5, 47]'),\n",
       " Text(0.5161290322580645, 0.07142857142857142, 'gini = 0.147\\nsamples = 50\\nvalue = [4, 46]'),\n",
       " Text(0.5483870967741935, 0.07142857142857142, 'gini = 0.5\\nsamples = 2\\nvalue = [1, 1]'),\n",
       " Text(0.5645161290322581, 0.21428571428571427, 'gini = 0.0\\nsamples = 1\\nvalue = [1, 0]'),\n",
       " Text(0.6129032258064516, 0.35714285714285715, 'X[9] <= 0.291\\ngini = 0.025\\nsamples = 78\\nvalue = [1, 77]'),\n",
       " Text(0.5967741935483871, 0.21428571428571427, 'gini = 0.0\\nsamples = 67\\nvalue = [0, 67]'),\n",
       " Text(0.6290322580645161, 0.21428571428571427, 'X[9] <= 0.298\\ngini = 0.165\\nsamples = 11\\nvalue = [1, 10]'),\n",
       " Text(0.6129032258064516, 0.07142857142857142, 'gini = 0.0\\nsamples = 1\\nvalue = [1, 0]'),\n",
       " Text(0.6451612903225806, 0.07142857142857142, 'gini = 0.0\\nsamples = 10\\nvalue = [0, 10]'),\n",
       " Text(0.8588709677419355, 0.6428571428571429, 'X[9] <= 0.046\\ngini = 0.499\\nsamples = 115\\nvalue = [55, 60]'),\n",
       " Text(0.782258064516129, 0.5, 'X[8] <= 0.368\\ngini = 0.471\\nsamples = 92\\nvalue = [35, 57]'),\n",
       " Text(0.7258064516129032, 0.35714285714285715, 'X[9] <= 0.015\\ngini = 0.444\\nsamples = 81\\nvalue = [27, 54]'),\n",
       " Text(0.6935483870967742, 0.21428571428571427, 'X[6] <= 222.5\\ngini = 0.264\\nsamples = 32\\nvalue = [5, 27]'),\n",
       " Text(0.6774193548387096, 0.07142857142857142, 'gini = 0.0\\nsamples = 11\\nvalue = [0, 11]'),\n",
       " Text(0.7096774193548387, 0.07142857142857142, 'gini = 0.363\\nsamples = 21\\nvalue = [5, 16]'),\n",
       " Text(0.7580645161290323, 0.21428571428571427, 'X[9] <= 0.03\\ngini = 0.495\\nsamples = 49\\nvalue = [22, 27]'),\n",
       " Text(0.7419354838709677, 0.07142857142857142, 'gini = 0.491\\nsamples = 30\\nvalue = [17, 13]'),\n",
       " Text(0.7741935483870968, 0.07142857142857142, 'gini = 0.388\\nsamples = 19\\nvalue = [5, 14]'),\n",
       " Text(0.8387096774193549, 0.35714285714285715, 'X[6] <= 783.0\\ngini = 0.397\\nsamples = 11\\nvalue = [8, 3]'),\n",
       " Text(0.8225806451612904, 0.21428571428571427, 'X[9] <= 0.04\\ngini = 0.32\\nsamples = 10\\nvalue = [8, 2]'),\n",
       " Text(0.8064516129032258, 0.07142857142857142, 'gini = 0.198\\nsamples = 9\\nvalue = [8, 1]'),\n",
       " Text(0.8387096774193549, 0.07142857142857142, 'gini = 0.0\\nsamples = 1\\nvalue = [0, 1]'),\n",
       " Text(0.8548387096774194, 0.21428571428571427, 'gini = 0.0\\nsamples = 1\\nvalue = [0, 1]'),\n",
       " Text(0.9354838709677419, 0.5, 'X[6] <= 115.0\\ngini = 0.227\\nsamples = 23\\nvalue = [20, 3]'),\n",
       " Text(0.9032258064516129, 0.35714285714285715, 'X[8] <= 0.28\\ngini = 0.444\\nsamples = 3\\nvalue = [1, 2]'),\n",
       " Text(0.8870967741935484, 0.21428571428571427, 'gini = 0.0\\nsamples = 1\\nvalue = [1, 0]'),\n",
       " Text(0.9193548387096774, 0.21428571428571427, 'gini = 0.0\\nsamples = 2\\nvalue = [0, 2]'),\n",
       " Text(0.967741935483871, 0.35714285714285715, 'X[8] <= 0.061\\ngini = 0.095\\nsamples = 20\\nvalue = [19, 1]'),\n",
       " Text(0.9516129032258065, 0.21428571428571427, 'X[8] <= 0.036\\ngini = 0.5\\nsamples = 2\\nvalue = [1, 1]'),\n",
       " Text(0.9354838709677419, 0.07142857142857142, 'gini = 0.0\\nsamples = 1\\nvalue = [1, 0]'),\n",
       " Text(0.967741935483871, 0.07142857142857142, 'gini = 0.0\\nsamples = 1\\nvalue = [0, 1]'),\n",
       " Text(0.9838709677419355, 0.21428571428571427, 'gini = 0.0\\nsamples = 18\\nvalue = [18, 0]')]"
      ]
     },
     "execution_count": 34,
     "metadata": {},
     "output_type": "execute_result"
    },
    {
     "data": {
      "image/png": "[encoded data removed]",
      "text/plain": [
       "<Figure size 432x288 with 1 Axes>"
      ]
     },
     "metadata": {
      "needs_background": "light"
     },
     "output_type": "display_data"
    }
   ],
   "source": [
    "from sklearn import tree \n",
    "from sklearn.tree import DecisionTreeClassifier\n",
    "\n",
    "treeclf=DecisionTreeClassifier(max_depth=6, random_state=0) \n",
    "treeclf.fit(X_train_imputed_scaled, y_train)\n",
    "print('train score:' ,treeclf.score(X_train_imputed_scaled, y_train))\n",
    "print('valid score:', treeclf.score(X_valid_imputed_scaled,y_valid))\n",
    "tree.plot_tree(treeclf)"
   ]
  },
  {
   "cell_type": "code",
   "execution_count": 35,
   "id": "1db1b713",
   "metadata": {
    "execution": {
     "iopub.execute_input": "2022-06-23T18:14:36.280902Z",
     "iopub.status.busy": "2022-06-23T18:14:36.280614Z",
     "iopub.status.idle": "2022-06-23T18:14:36.317491Z",
     "shell.execute_reply": "2022-06-23T18:14:36.316115Z"
    },
    "papermill": {
     "duration": 0.116055,
     "end_time": "2022-06-23T18:14:36.320734",
     "exception": false,
     "start_time": "2022-06-23T18:14:36.204679",
     "status": "completed"
    },
    "tags": []
   },
   "outputs": [
    {
     "name": "stdout",
     "output_type": "stream",
     "text": [
      "[0.71328671 0.82517483 0.78873239 0.74647887 0.84507042]\n",
      "0.7837486457204766\n"
     ]
    }
   ],
   "source": [
    "from sklearn.model_selection import cross_val_score\n",
    "cv = cross_val_score(treeclf,X_train_imputed_scaled,y_train,cv=5)\n",
    "print(cv)\n",
    "print(cv.mean())"
   ]
  },
  {
   "cell_type": "code",
   "execution_count": 36,
   "id": "3a4c7eff",
   "metadata": {
    "execution": {
     "iopub.execute_input": "2022-06-23T18:14:36.473191Z",
     "iopub.status.busy": "2022-06-23T18:14:36.472452Z",
     "iopub.status.idle": "2022-06-23T18:14:36.504512Z",
     "shell.execute_reply": "2022-06-23T18:14:36.503850Z"
    },
    "papermill": {
     "duration": 0.110529,
     "end_time": "2022-06-23T18:14:36.506742",
     "exception": false,
     "start_time": "2022-06-23T18:14:36.396213",
     "status": "completed"
    },
    "tags": []
   },
   "outputs": [
    {
     "name": "stdout",
     "output_type": "stream",
     "text": [
      "[0.76223776 0.76223776 0.79577465 0.78169014 0.78169014]\n",
      "0.7767260908105978\n"
     ]
    }
   ],
   "source": [
    "\n",
    "from sklearn.naive_bayes import GaussianNB\n",
    "\n",
    "gnb = GaussianNB()\n",
    "cv = cross_val_score(gnb,X_train_imputed_scaled,y_train,cv=5)\n",
    "print(cv)\n",
    "print(cv.mean())"
   ]
  },
  {
   "cell_type": "code",
   "execution_count": 37,
   "id": "5e29f6ed",
   "metadata": {
    "execution": {
     "iopub.execute_input": "2022-06-23T18:14:36.658535Z",
     "iopub.status.busy": "2022-06-23T18:14:36.658276Z",
     "iopub.status.idle": "2022-06-23T18:14:38.004944Z",
     "shell.execute_reply": "2022-06-23T18:14:38.003646Z"
    },
    "papermill": {
     "duration": 1.426322,
     "end_time": "2022-06-23T18:14:38.008287",
     "exception": false,
     "start_time": "2022-06-23T18:14:36.581965",
     "status": "completed"
    },
    "tags": []
   },
   "outputs": [
    {
     "name": "stdout",
     "output_type": "stream",
     "text": [
      "train score: 1.0\n",
      "valid score: 0.8435754189944135\n"
     ]
    }
   ],
   "source": [
    "from sklearn.ensemble import RandomForestClassifier\n",
    "\n",
    "randomclf = RandomForestClassifier(n_estimators=500, random_state= 0)\n",
    "randomclf.fit(X_train_imputed_scaled, y_train)\n",
    "print('train score:' ,randomclf.score(X_train_imputed_scaled, y_train))\n",
    "print('valid score:', randomclf.score(X_valid_imputed_scaled,y_valid))"
   ]
  },
  {
   "cell_type": "code",
   "execution_count": 38,
   "id": "eee06844",
   "metadata": {
    "execution": {
     "iopub.execute_input": "2022-06-23T18:14:38.163018Z",
     "iopub.status.busy": "2022-06-23T18:14:38.162741Z",
     "iopub.status.idle": "2022-06-23T18:14:38.166557Z",
     "shell.execute_reply": "2022-06-23T18:14:38.165807Z"
    },
    "papermill": {
     "duration": 0.08349,
     "end_time": "2022-06-23T18:14:38.168639",
     "exception": false,
     "start_time": "2022-06-23T18:14:38.085149",
     "status": "completed"
    },
    "tags": []
   },
   "outputs": [],
   "source": [
    "hidden_layer_sizes = [10,10,10]"
   ]
  },
  {
   "cell_type": "code",
   "execution_count": 39,
   "id": "ba299a34",
   "metadata": {
    "execution": {
     "iopub.execute_input": "2022-06-23T18:14:38.322136Z",
     "iopub.status.busy": "2022-06-23T18:14:38.321866Z",
     "iopub.status.idle": "2022-06-23T18:14:38.987880Z",
     "shell.execute_reply": "2022-06-23T18:14:38.987038Z"
    },
    "papermill": {
     "duration": 0.745623,
     "end_time": "2022-06-23T18:14:38.990785",
     "exception": false,
     "start_time": "2022-06-23T18:14:38.245162",
     "status": "completed"
    },
    "tags": []
   },
   "outputs": [
    {
     "name": "stdout",
     "output_type": "stream",
     "text": [
      "Accuracy on training set: 0.7752808988764045\n",
      "Accuracy on valid set:  0.8156424581005587\n"
     ]
    }
   ],
   "source": [
    "from sklearn.neural_network import MLPClassifier \n",
    "mlp10 = MLPClassifier(solver = 'adam', random_state = 0)\n",
    "\n",
    "mlp10.fit(X_train_imputed_scaled , y_train)\n",
    "\n",
    "print(\"Accuracy on training set:\", mlp10.score(X_train_imputed_scaled, y_train))\n",
    "print(\"Accuracy on valid set: \", mlp10.score(X_valid_imputed_scaled, y_valid))"
   ]
  },
  {
   "cell_type": "code",
   "execution_count": 40,
   "id": "c654be20",
   "metadata": {
    "execution": {
     "iopub.execute_input": "2022-06-23T18:14:39.205249Z",
     "iopub.status.busy": "2022-06-23T18:14:39.204585Z",
     "iopub.status.idle": "2022-06-23T18:14:39.220891Z",
     "shell.execute_reply": "2022-06-23T18:14:39.220056Z"
    },
    "papermill": {
     "duration": 0.098515,
     "end_time": "2022-06-23T18:14:39.223755",
     "exception": false,
     "start_time": "2022-06-23T18:14:39.125240",
     "status": "completed"
    },
    "tags": []
   },
   "outputs": [
    {
     "name": "stdout",
     "output_type": "stream",
     "text": [
      "train score: 0.7794943820224719\n",
      "valid score: 0.7988826815642458\n"
     ]
    }
   ],
   "source": [
    "gnb.fit(X_train_imputed_scaled, y_train)\n",
    "print('train score:' ,gnb.score(X_train_imputed_scaled, y_train))\n",
    "print('valid score:', gnb.score(X_valid_imputed_scaled,y_valid))"
   ]
  },
  {
   "cell_type": "code",
   "execution_count": 41,
   "id": "c780c0ce",
   "metadata": {
    "execution": {
     "iopub.execute_input": "2022-06-23T18:14:39.389429Z",
     "iopub.status.busy": "2022-06-23T18:14:39.388573Z",
     "iopub.status.idle": "2022-06-23T18:14:39.397733Z",
     "shell.execute_reply": "2022-06-23T18:14:39.396775Z"
    },
    "papermill": {
     "duration": 0.089598,
     "end_time": "2022-06-23T18:14:39.399837",
     "exception": false,
     "start_time": "2022-06-23T18:14:39.310239",
     "status": "completed"
    },
    "tags": []
   },
   "outputs": [
    {
     "data": {
      "text/plain": [
       "495    0\n",
       "648    0\n",
       "278    0\n",
       "31     1\n",
       "255    1\n",
       "      ..\n",
       "780    1\n",
       "837    0\n",
       "215    1\n",
       "833    0\n",
       "372    0\n",
       "Name: Survived, Length: 179, dtype: int64"
      ]
     },
     "execution_count": 41,
     "metadata": {},
     "output_type": "execute_result"
    }
   ],
   "source": [
    "y_valid.T"
   ]
  },
  {
   "cell_type": "code",
   "execution_count": 42,
   "id": "57881d74",
   "metadata": {
    "execution": {
     "iopub.execute_input": "2022-06-23T18:14:39.565167Z",
     "iopub.status.busy": "2022-06-23T18:14:39.564611Z",
     "iopub.status.idle": "2022-06-23T18:14:39.613950Z",
     "shell.execute_reply": "2022-06-23T18:14:39.612821Z"
    },
    "papermill": {
     "duration": 0.139566,
     "end_time": "2022-06-23T18:14:39.617216",
     "exception": false,
     "start_time": "2022-06-23T18:14:39.477650",
     "status": "completed"
    },
    "tags": []
   },
   "outputs": [
    {
     "name": "stdout",
     "output_type": "stream",
     "text": [
      "train score: 0.7401685393258427\n",
      "valid score: 0.7430167597765364\n"
     ]
    },
    {
     "name": "stderr",
     "output_type": "stream",
     "text": [
      "/opt/conda/lib/python3.7/site-packages/sklearn/svm/_base.py:1208: ConvergenceWarning: Liblinear failed to converge, increase the number of iterations.\n",
      "  ConvergenceWarning,\n"
     ]
    }
   ],
   "source": [
    "from sklearn.linear_model import LogisticRegression\n",
    "from sklearn.svm import LinearSVC\n",
    "\n",
    "linear_svm = LinearSVC() \n",
    "linear_svm.fit(X_train_imputed_scaled, y_train)\n",
    "print('train score:' ,linear_svm.score(X_train_imputed_scaled, y_train))\n",
    "print('valid score:', linear_svm.score(X_valid_imputed_scaled,y_valid))"
   ]
  },
  {
   "cell_type": "code",
   "execution_count": 43,
   "id": "fdd1627d",
   "metadata": {
    "execution": {
     "iopub.execute_input": "2022-06-23T18:14:39.776357Z",
     "iopub.status.busy": "2022-06-23T18:14:39.775682Z",
     "iopub.status.idle": "2022-06-23T18:14:40.496501Z",
     "shell.execute_reply": "2022-06-23T18:14:40.495300Z"
    },
    "papermill": {
     "duration": 0.803258,
     "end_time": "2022-06-23T18:14:40.499798",
     "exception": false,
     "start_time": "2022-06-23T18:14:39.696540",
     "status": "completed"
    },
    "tags": []
   },
   "outputs": [
    {
     "name": "stderr",
     "output_type": "stream",
     "text": [
      "/opt/conda/lib/python3.7/site-packages/sklearn/svm/_base.py:1208: ConvergenceWarning: Liblinear failed to converge, increase the number of iterations.\n",
      "  ConvergenceWarning,\n",
      "/opt/conda/lib/python3.7/site-packages/sklearn/svm/_base.py:1208: ConvergenceWarning: Liblinear failed to converge, increase the number of iterations.\n",
      "  ConvergenceWarning,\n",
      "/opt/conda/lib/python3.7/site-packages/sklearn/svm/_base.py:1208: ConvergenceWarning: Liblinear failed to converge, increase the number of iterations.\n",
      "  ConvergenceWarning,\n",
      "/opt/conda/lib/python3.7/site-packages/sklearn/svm/_base.py:1208: ConvergenceWarning: Liblinear failed to converge, increase the number of iterations.\n",
      "  ConvergenceWarning,\n",
      "/opt/conda/lib/python3.7/site-packages/sklearn/svm/_base.py:1208: ConvergenceWarning: Liblinear failed to converge, increase the number of iterations.\n",
      "  ConvergenceWarning,\n",
      "/opt/conda/lib/python3.7/site-packages/sklearn/svm/_base.py:1208: ConvergenceWarning: Liblinear failed to converge, increase the number of iterations.\n",
      "  ConvergenceWarning,\n",
      "/opt/conda/lib/python3.7/site-packages/sklearn/svm/_base.py:1208: ConvergenceWarning: Liblinear failed to converge, increase the number of iterations.\n",
      "  ConvergenceWarning,\n",
      "/opt/conda/lib/python3.7/site-packages/sklearn/svm/_base.py:1208: ConvergenceWarning: Liblinear failed to converge, increase the number of iterations.\n",
      "  ConvergenceWarning,\n",
      "/opt/conda/lib/python3.7/site-packages/sklearn/svm/_base.py:1208: ConvergenceWarning: Liblinear failed to converge, increase the number of iterations.\n",
      "  ConvergenceWarning,\n",
      "/opt/conda/lib/python3.7/site-packages/sklearn/svm/_base.py:1208: ConvergenceWarning: Liblinear failed to converge, increase the number of iterations.\n",
      "  ConvergenceWarning,\n",
      "/opt/conda/lib/python3.7/site-packages/sklearn/svm/_base.py:1208: ConvergenceWarning: Liblinear failed to converge, increase the number of iterations.\n",
      "  ConvergenceWarning,\n",
      "/opt/conda/lib/python3.7/site-packages/sklearn/svm/_base.py:1208: ConvergenceWarning: Liblinear failed to converge, increase the number of iterations.\n",
      "  ConvergenceWarning,\n",
      "/opt/conda/lib/python3.7/site-packages/sklearn/svm/_base.py:1208: ConvergenceWarning: Liblinear failed to converge, increase the number of iterations.\n",
      "  ConvergenceWarning,\n",
      "/opt/conda/lib/python3.7/site-packages/sklearn/svm/_base.py:1208: ConvergenceWarning: Liblinear failed to converge, increase the number of iterations.\n",
      "  ConvergenceWarning,\n",
      "/opt/conda/lib/python3.7/site-packages/sklearn/svm/_base.py:1208: ConvergenceWarning: Liblinear failed to converge, increase the number of iterations.\n",
      "  ConvergenceWarning,\n",
      "/opt/conda/lib/python3.7/site-packages/sklearn/svm/_base.py:1208: ConvergenceWarning: Liblinear failed to converge, increase the number of iterations.\n",
      "  ConvergenceWarning,\n",
      "/opt/conda/lib/python3.7/site-packages/sklearn/svm/_base.py:1208: ConvergenceWarning: Liblinear failed to converge, increase the number of iterations.\n",
      "  ConvergenceWarning,\n",
      "/opt/conda/lib/python3.7/site-packages/sklearn/svm/_base.py:1208: ConvergenceWarning: Liblinear failed to converge, increase the number of iterations.\n",
      "  ConvergenceWarning,\n"
     ]
    },
    {
     "name": "stdout",
     "output_type": "stream",
     "text": [
      "[0.66666667 0.86111111 0.66666667 0.33333333 0.88888889 0.69444444\n",
      " 0.47222222 0.75       0.72222222 0.61111111 0.72222222 0.77777778\n",
      " 0.77142857 0.74285714 0.68571429 0.85714286 0.85714286 0.65714286\n",
      " 0.42857143 0.74285714]\n",
      "0.6954761904761904\n"
     ]
    },
    {
     "name": "stderr",
     "output_type": "stream",
     "text": [
      "/opt/conda/lib/python3.7/site-packages/sklearn/svm/_base.py:1208: ConvergenceWarning: Liblinear failed to converge, increase the number of iterations.\n",
      "  ConvergenceWarning,\n",
      "/opt/conda/lib/python3.7/site-packages/sklearn/svm/_base.py:1208: ConvergenceWarning: Liblinear failed to converge, increase the number of iterations.\n",
      "  ConvergenceWarning,\n"
     ]
    }
   ],
   "source": [
    "cv = cross_val_score(linear_svm,X_train_imputed_scaled,y_train,cv=20)\n",
    "print(cv)\n",
    "print(cv.mean())"
   ]
  },
  {
   "cell_type": "code",
   "execution_count": 44,
   "id": "2f2a98bb",
   "metadata": {
    "execution": {
     "iopub.execute_input": "2022-06-23T18:14:40.663149Z",
     "iopub.status.busy": "2022-06-23T18:14:40.662536Z",
     "iopub.status.idle": "2022-06-23T18:14:40.668274Z",
     "shell.execute_reply": "2022-06-23T18:14:40.667710Z"
    },
    "papermill": {
     "duration": 0.090546,
     "end_time": "2022-06-23T18:14:40.670561",
     "exception": false,
     "start_time": "2022-06-23T18:14:40.580015",
     "status": "completed"
    },
    "tags": []
   },
   "outputs": [
    {
     "data": {
      "text/plain": [
       "140    0\n",
       "439    0\n",
       "817    0\n",
       "378    0\n",
       "491    0\n",
       "Name: Survived, dtype: int64"
      ]
     },
     "execution_count": 44,
     "metadata": {},
     "output_type": "execute_result"
    }
   ],
   "source": [
    "y_train.head()"
   ]
  },
  {
   "cell_type": "code",
   "execution_count": 45,
   "id": "884a066b",
   "metadata": {
    "execution": {
     "iopub.execute_input": "2022-06-23T18:14:40.831563Z",
     "iopub.status.busy": "2022-06-23T18:14:40.831279Z",
     "iopub.status.idle": "2022-06-23T18:14:41.298932Z",
     "shell.execute_reply": "2022-06-23T18:14:41.297659Z"
    },
    "papermill": {
     "duration": 0.55104,
     "end_time": "2022-06-23T18:14:41.301379",
     "exception": false,
     "start_time": "2022-06-23T18:14:40.750339",
     "status": "completed"
    },
    "tags": []
   },
   "outputs": [
    {
     "name": "stdout",
     "output_type": "stream",
     "text": [
      "train score: 0.9115168539325843\n",
      "valid score: 0.8435754189944135\n"
     ]
    }
   ],
   "source": [
    "from xgboost import XGBClassifier\n",
    "\n",
    "xgb = XGBClassifier(learning_rate = 0.05) \n",
    "xgb.fit(X_train_imputed_scaled,y_train)\n",
    "print('train score:' ,xgb.score(X_train_imputed_scaled, y_train))\n",
    "print('valid score:', xgb.score(X_valid_imputed_scaled,y_valid))"
   ]
  },
  {
   "cell_type": "markdown",
   "id": "ef20731b",
   "metadata": {
    "papermill": {
     "duration": 0.081809,
     "end_time": "2022-06-23T18:14:41.465095",
     "exception": false,
     "start_time": "2022-06-23T18:14:41.383286",
     "status": "completed"
    },
    "tags": []
   },
   "source": [
    "### Now let's start making some predictions! "
   ]
  },
  {
   "cell_type": "code",
   "execution_count": 46,
   "id": "a3f8dd86",
   "metadata": {
    "execution": {
     "iopub.execute_input": "2022-06-23T18:14:41.628494Z",
     "iopub.status.busy": "2022-06-23T18:14:41.628227Z",
     "iopub.status.idle": "2022-06-23T18:14:41.653645Z",
     "shell.execute_reply": "2022-06-23T18:14:41.651418Z"
    },
    "papermill": {
     "duration": 0.109473,
     "end_time": "2022-06-23T18:14:41.655819",
     "exception": false,
     "start_time": "2022-06-23T18:14:41.546346",
     "status": "completed"
    },
    "tags": []
   },
   "outputs": [
    {
     "data": {
      "text/html": [
       "<div>\n",
       "<style scoped>\n",
       "    .dataframe tbody tr th:only-of-type {\n",
       "        vertical-align: middle;\n",
       "    }\n",
       "\n",
       "    .dataframe tbody tr th {\n",
       "        vertical-align: top;\n",
       "    }\n",
       "\n",
       "    .dataframe thead th {\n",
       "        text-align: right;\n",
       "    }\n",
       "</style>\n",
       "<table border=\"1\" class=\"dataframe\">\n",
       "  <thead>\n",
       "    <tr style=\"text-align: right;\">\n",
       "      <th></th>\n",
       "      <th>PassengerId</th>\n",
       "      <th>Survived</th>\n",
       "    </tr>\n",
       "  </thead>\n",
       "  <tbody>\n",
       "    <tr>\n",
       "      <th>0</th>\n",
       "      <td>892</td>\n",
       "      <td>0</td>\n",
       "    </tr>\n",
       "    <tr>\n",
       "      <th>1</th>\n",
       "      <td>893</td>\n",
       "      <td>0</td>\n",
       "    </tr>\n",
       "    <tr>\n",
       "      <th>2</th>\n",
       "      <td>894</td>\n",
       "      <td>0</td>\n",
       "    </tr>\n",
       "    <tr>\n",
       "      <th>3</th>\n",
       "      <td>895</td>\n",
       "      <td>0</td>\n",
       "    </tr>\n",
       "    <tr>\n",
       "      <th>4</th>\n",
       "      <td>896</td>\n",
       "      <td>1</td>\n",
       "    </tr>\n",
       "  </tbody>\n",
       "</table>\n",
       "</div>"
      ],
      "text/plain": [
       "   PassengerId  Survived\n",
       "0          892         0\n",
       "1          893         0\n",
       "2          894         0\n",
       "3          895         0\n",
       "4          896         1"
      ]
     },
     "execution_count": 46,
     "metadata": {},
     "output_type": "execute_result"
    }
   ],
   "source": [
    "y_predictions = xgb.predict(X_test_imputed_scaled).astype(int)\n",
    "submission = {'PassengerId' : test_df.PassengerId, 'Survived': y_predictions}\n",
    "submmission_df = pd.DataFrame(data = submission)\n",
    "submmission_df.head()"
   ]
  },
  {
   "cell_type": "code",
   "execution_count": 47,
   "id": "c74d1897",
   "metadata": {
    "execution": {
     "iopub.execute_input": "2022-06-23T18:14:41.821567Z",
     "iopub.status.busy": "2022-06-23T18:14:41.821044Z",
     "iopub.status.idle": "2022-06-23T18:14:41.828310Z",
     "shell.execute_reply": "2022-06-23T18:14:41.827659Z"
    },
    "papermill": {
     "duration": 0.091782,
     "end_time": "2022-06-23T18:14:41.830266",
     "exception": false,
     "start_time": "2022-06-23T18:14:41.738484",
     "status": "completed"
    },
    "tags": []
   },
   "outputs": [],
   "source": [
    "submmission_df.to_csv('Titantic_submissions.csv', index = False)"
   ]
  }
 ],
 "metadata": {
  "kernelspec": {
   "display_name": "Python 3",
   "language": "python",
   "name": "python3"
  },
  "language_info": {
   "codemirror_mode": {
    "name": "ipython",
    "version": 3
   },
   "file_extension": ".py",
   "mimetype": "text/x-python",
   "name": "python",
   "nbconvert_exporter": "python",
   "pygments_lexer": "ipython3",
   "version": "3.7.12"
  },
  "papermill": {
   "default_parameters": {},
   "duration": 40.550906,
   "end_time": "2022-06-23T18:14:42.832912",
   "environment_variables": {},
   "exception": null,
   "input_path": "__notebook__.ipynb",
   "output_path": "__notebook__.ipynb",
   "parameters": {},
   "start_time": "2022-06-23T18:14:02.282006",
   "version": "2.3.4"
  }
 },
 "nbformat": 4,
 "nbformat_minor": 5
}
